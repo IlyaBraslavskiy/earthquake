{
 "cells": [
  {
   "cell_type": "markdown",
   "metadata": {},
   "source": [
    "### Подготовка датасета\n",
    "+ Прочитаем датасет землетрясений Японии из csv\n",
    "+ Уменьшим немного область, убрав землетрясения далекие от острова (следуя статье Подход к автоматическому прогнозу землетрясений В.Г. Гитис, А.Б. Дерендяев)\n",
    "+ Перенсем координаты в (0;0)\n",
    "+ Перейдем от абсолютных дат землетрясений в формте год-месяц-день время к вещественному числу дней после первого землетрясения в датасете "
   ]
  },
  {
   "cell_type": "code",
   "execution_count": 1,
   "metadata": {
    "collapsed": true
   },
   "outputs": [],
   "source": [
    "import numpy as np\n",
    "import pandas as pd\n",
    "from functools import partial"
   ]
  },
  {
   "cell_type": "code",
   "execution_count": 2,
   "metadata": {
    "collapsed": false
   },
   "outputs": [],
   "source": [
    "def concatenate_time(a, b, c, sep):\n",
    "    return(str(a) + sep + str(b) + sep + str(c))"
   ]
  },
  {
   "cell_type": "code",
   "execution_count": 3,
   "metadata": {
    "collapsed": false
   },
   "outputs": [],
   "source": [
    "make_date = partial(concatenate_time, sep='/')\n",
    "make_time = partial(concatenate_time, sep=':')\n",
    "\n",
    "earthquakers = pd.read_csv('data/90-16-jap.csv')\n",
    "date = map(make_date, earthquakers['year'], earthquakers['month'], earthquakers['date'])\n",
    "time = map(make_time, earthquakers['hour'], earthquakers['minute'], earthquakers['seconds'].astype(int))\n",
    "earthquakers['date_time'] = pd.to_datetime(map(lambda date,time: date + ' ' + time, date, time))\n",
    "earthquakers['diff_in_days_before_first_eqarthquake']\\\n",
    "= np.array([float(i) for i in earthquakers.date_time.values - earthquakers.date_time.values[0]]) / 1e+9/60./60./ 24.\n",
    "\n",
    "data = earthquakers[['lat', 'long', 'depth', 'class', 'date_time', 'diff_in_days_before_first_eqarthquake']]\n",
    "#  как в статье Подход к автоматическому прогнозу землетрясений В.Г. Гитис, А.Б. Дерендяев\n",
    "#  [0]lat 30 : 50\n",
    "#  [1]lon 110 : 150\n",
    "lat_flag = (data['lat'].values <= 50.0) * (data['lat'].values >= 30.0)\n",
    "lot_flag = (data['long'].values <= 150.0) * (data['long'].values >= 110.0)\n",
    "data = data.ix[lat_flag * lot_flag,:]\n",
    "l_from_magnitude = lambda M: np.exp(0.5*M-1.8)\n",
    "l_from_magnitude = np.vectorize(l_from_magnitude)\n",
    "data['l_r'] = l_from_magnitude(data['class'].values)\n",
    "\n",
    "\n",
    "\n",
    "\n",
    "#  сдвинем координаты к 0\n",
    "data['lat'] = data['lat'] - data['lat'].min()\n",
    "data['long'] = data['long'] - data['long'].min()\n",
    "\n",
    "pd.to_pickle(data, 'work_catalog_pd')"
   ]
  },
  {
   "cell_type": "code",
   "execution_count": 4,
   "metadata": {
    "collapsed": false
   },
   "outputs": [
    {
     "data": {
      "text/html": [
       "<div>\n",
       "<table border=\"1\" class=\"dataframe\">\n",
       "  <thead>\n",
       "    <tr style=\"text-align: right;\">\n",
       "      <th></th>\n",
       "      <th>lat</th>\n",
       "      <th>long</th>\n",
       "      <th>depth</th>\n",
       "      <th>class</th>\n",
       "      <th>date_time</th>\n",
       "      <th>diff_in_days_before_first_eqarthquake</th>\n",
       "      <th>l_r</th>\n",
       "    </tr>\n",
       "  </thead>\n",
       "  <tbody>\n",
       "    <tr>\n",
       "      <th>0</th>\n",
       "      <td>12.2734</td>\n",
       "      <td>20.5460</td>\n",
       "      <td>8.0</td>\n",
       "      <td>2.9</td>\n",
       "      <td>1990-01-01 02:19:05</td>\n",
       "      <td>0.000000</td>\n",
       "      <td>0.704688</td>\n",
       "    </tr>\n",
       "    <tr>\n",
       "      <th>1</th>\n",
       "      <td>9.9358</td>\n",
       "      <td>18.2461</td>\n",
       "      <td>30.6</td>\n",
       "      <td>3.0</td>\n",
       "      <td>1990-01-01 04:04:20</td>\n",
       "      <td>0.073090</td>\n",
       "      <td>0.740818</td>\n",
       "    </tr>\n",
       "    <tr>\n",
       "      <th>2</th>\n",
       "      <td>6.7053</td>\n",
       "      <td>16.9990</td>\n",
       "      <td>18.6</td>\n",
       "      <td>2.7</td>\n",
       "      <td>1990-01-01 07:14:11</td>\n",
       "      <td>0.204931</td>\n",
       "      <td>0.637628</td>\n",
       "    </tr>\n",
       "    <tr>\n",
       "      <th>3</th>\n",
       "      <td>6.4859</td>\n",
       "      <td>16.3964</td>\n",
       "      <td>67.2</td>\n",
       "      <td>4.3</td>\n",
       "      <td>1990-01-01 09:03:12</td>\n",
       "      <td>0.280637</td>\n",
       "      <td>1.419068</td>\n",
       "    </tr>\n",
       "    <tr>\n",
       "      <th>4</th>\n",
       "      <td>5.0121</td>\n",
       "      <td>13.8440</td>\n",
       "      <td>22.6</td>\n",
       "      <td>2.5</td>\n",
       "      <td>1990-01-01 12:31:25</td>\n",
       "      <td>0.425231</td>\n",
       "      <td>0.576950</td>\n",
       "    </tr>\n",
       "  </tbody>\n",
       "</table>\n",
       "</div>"
      ],
      "text/plain": [
       "       lat     long  depth  class           date_time  \\\n",
       "0  12.2734  20.5460    8.0    2.9 1990-01-01 02:19:05   \n",
       "1   9.9358  18.2461   30.6    3.0 1990-01-01 04:04:20   \n",
       "2   6.7053  16.9990   18.6    2.7 1990-01-01 07:14:11   \n",
       "3   6.4859  16.3964   67.2    4.3 1990-01-01 09:03:12   \n",
       "4   5.0121  13.8440   22.6    2.5 1990-01-01 12:31:25   \n",
       "\n",
       "   diff_in_days_before_first_eqarthquake       l_r  \n",
       "0                               0.000000  0.704688  \n",
       "1                               0.073090  0.740818  \n",
       "2                               0.204931  0.637628  \n",
       "3                               0.280637  1.419068  \n",
       "4                               0.425231  0.576950  "
      ]
     },
     "execution_count": 4,
     "metadata": {},
     "output_type": "execute_result"
    }
   ],
   "source": [
    "data.head(n=5)"
   ]
  }
 ],
 "metadata": {
  "kernelspec": {
   "display_name": "Python 2",
   "language": "python",
   "name": "python2"
  },
  "language_info": {
   "codemirror_mode": {
    "name": "ipython",
    "version": 2
   },
   "file_extension": ".py",
   "mimetype": "text/x-python",
   "name": "python",
   "nbconvert_exporter": "python",
   "pygments_lexer": "ipython2",
   "version": "2.7.6"
  }
 },
 "nbformat": 4,
 "nbformat_minor": 1
}
