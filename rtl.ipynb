{
 "cells": [
  {
   "cell_type": "markdown",
   "metadata": {},
   "source": [
    "$[1]$ Sobolev, G. A., and Y. S. Tyupkin, 1997: Low-seismicity precursors of large earthquakes in Kamchatka. Volc. Seismol., 18, 433-446\n",
    "\n",
    "$[2]$ Huang Q. Seismicity pattern changes prior to large earthquakes-An approach of the RTL algorithm //TERRESTRIAL ATMOSPHERIC AND OCEANIC SCIENCES. – 2004. – Т. 15. – №. 3. – С. 469-492.\n",
    "\n",
    "$[3]$ Kasahara K. Earthquake mechanics. – Cambridge university press, 1981.\n",
    "\n",
    "$[4]$ Huang Q. Search for reliable precursors: A case study of the seismic quiescence of the 2000 western Tottori prefecture earthquake //2. – 2006. – Т. 111. – №. B4.\n",
    "\n",
    "$[5]$ Huang Q., Sobolev G. A., Nagao T. Characteristics of the seismic quiescence and activation patterns before the M= 7.2 Kobe earthquake, January 17, 1995 //Tectonophysics. – 2001. – Т. 337. – №. 1. – С. 99-116."
   ]
  },
  {
   "cell_type": "markdown",
   "metadata": {},
   "source": [
    "## Общая модель"
   ]
  },
  {
   "cell_type": "markdown",
   "metadata": {},
   "source": [
    "Рассмотрим статистику $Region-Time-Length~(RTL)$ $[1, 2]$, на основе которой формируются предвестники землетрясений большой магнитуды. Для того, чтобы одновременно принимать во внимание пространственно-временную структуру данных земелетрясений, статистика комбинирует показатели с помощью экспоненциального ядра. \n",
    "\n",
    "Путь землетресение характеризуется вектором параметров своего эпицентра $(x, y, z, t, l)$, где $(x, y, z)$ пространственные коордианты землетрясения, $t$ время и $l$ протяженность разрывов поверхности в результате земелтрясения.\n",
    "\n",
    "\n",
    "$$\n",
    "RTL(x,y,z,t) = R(x,y,z,t)\\cdot T(x,y,z,t)\\cdot L(x,y,z,t)\n",
    "$$\n",
    "\n",
    "$$\n",
    "R(x,y,z,t) = \\left[\\sum\\limits_{i\\in\\mathcal{E}}\\exp\\left(-\\dfrac{r_i}{r_0}\\right)\\right], \\\\\n",
    "r_i = \\|(x,y,z)_{\\text{earthquake current}} - (x,y,z)_{\\text{earthquake i}} \\|\n",
    "$$\n",
    "\n",
    "\n",
    "$$\n",
    "T(x,y,z,t) = \\left[\\sum\\limits_{i\\in\\mathcal{E}}\\exp\\left(-\\dfrac{t-t_i}{t_0}\\right)\\right]\n",
    "$$\n",
    "\n",
    "$$\n",
    "L(x,y,z,t) = \\left[\\sum\\limits_{i\\in\\mathcal{E}}\\exp\\left(\\dfrac{l_i}{l_0}\\right)\\right]\n",
    "$$\n",
    "\n",
    "где множество $\\mathcal{E}$ для землетрясения $(x,y,z,t)$ определяется как такие землетрясения с индексом $i$, что \n",
    "$$\n",
    "t_i < t \\\\\n",
    "M_i > M_{\\min} \\\\\n",
    "r_i < R_{\\max} = 2r_0 \\\\\n",
    "t - t_i < T_{\\max} = 2t_0\n",
    "$$\n",
    "\n",
    "а $M_{\\min}$, $r_0$, $t_0$ параметры алгоритма. Таким образом, прошедшие землетрясения до момента $t$, рассматриваемого землетресения, взвешиваются согласно степени своего влияния. Влияние полагается нулевым вне определенного параметрами пространственного-временного цилиндра и убывающим экспоненциально по времени и дистанции и возрастающим экспоненциально по силе. Заметим, что в каталоге земелетресений вместо параметра $l$ мы имеем магнитуду землетрясений. Для Японии эмпирически установлено соотношение $[3]$:\n",
    "\n",
    "$$\n",
    "\\log l_i = 0.5M_i - 1.8\n",
    "$$\n",
    "\n",
    "Кроме этого, в статье $[2]$ предлагается вычитать из соотвествующих рядов $R,~T,~L$ их \"фоновые\" значения. Однако, методика их определения не рассматривается ни здесь, ни вряде других статей, использующих подход на основе $RTL$. В статье $[4]$ замечается, что как фоновый уровень использует линейная регрессия по наблюдениям, до текущего момента $t$.\n",
    "\n",
    "Заметим, что плюсом $RTL$ подхода является отсуствие предположений о распределении количества землетрсений, тогда как обычно делается предположение о них, как у Пуассоновском потоке. Благодрая этому, нет необходимости устраивать кроме пространственной, временную сетку."
   ]
  },
  {
   "cell_type": "markdown",
   "metadata": {},
   "source": [
    "## Предвестник "
   ]
  },
  {
   "cell_type": "markdown",
   "metadata": {},
   "source": [
    "Как предственик землетрясений для пространственной точки $x,y,z$ используется $Q$ статистика:\n",
    "\n",
    "$$\n",
    "Q(x,y,z,t,\\Delta t) = \\dfrac{1}{m}\\sum_{i=1}^{m}RTL(x,y,z,t_i),~t_i\\in[t,\\Delta t]\n",
    "$$\n",
    "\n",
    "т.е. усреднение $RTL$ по временному окну с шагом $\\Delta t$. Кроме этого, $RTL$ обычно нормируется на свое стандартное отклонение в окне $[t,\\Delta t]$."
   ]
  },
  {
   "cell_type": "markdown",
   "metadata": {},
   "source": [
    "## Эксперимент 1"
   ]
  },
  {
   "cell_type": "markdown",
   "metadata": {},
   "source": [
    "Отталкиваясь от статьи $[5]$, в которой рассматривается поведение $RTL$ статистики перед землетресением в Японии (Кобе) магнитуды $M=7.2$, 17-01-1995, примем параметры:\n",
    "\n",
    "$$\n",
    "r_0 = 50\\text{ км, } R_{\\max} = 100\\text{ км} \\\\\n",
    "t_0 = 365\\text{ дней, } T_{\\max} = 730\\text{ дней}\n",
    "$$\n",
    "\n",
    "Разобьем пространство на сетку $0.25\\times 0.25$ градусов. Для каждой такой ячейки будем считать $RTL$. Между землетрясениями будем интерполировать. "
   ]
  },
  {
   "cell_type": "code",
   "execution_count": 198,
   "metadata": {
    "collapsed": true
   },
   "outputs": [],
   "source": [
    "import numpy as np\n",
    "import pandas as pd\n",
    "import itertools\n",
    "import matplotlib.pyplot as plt\n",
    "%matplotlib inline\n",
    "from sklearn.metrics import roc_auc_score\n",
    "from sklearn.metrics import f1_score\n",
    "from sklearn.metrics import recall_score\n",
    "from sklearn.metrics import precision_score\n",
    "from sklearn.metrics import confusion_matrix"
   ]
  },
  {
   "cell_type": "code",
   "execution_count": 5,
   "metadata": {
    "collapsed": false
   },
   "outputs": [],
   "source": [
    "data = pd.read_pickle('work_catalog_pd')"
   ]
  },
  {
   "cell_type": "code",
   "execution_count": 6,
   "metadata": {
    "collapsed": false
   },
   "outputs": [],
   "source": [
    "data = data[['lat', 'long', 'class', 'l_r', 'diff_in_days_before_first_eqarthquake']]"
   ]
  },
  {
   "cell_type": "code",
   "execution_count": 7,
   "metadata": {
    "collapsed": true
   },
   "outputs": [],
   "source": [
    "def xy_split(delta_x, delta_y, data):\n",
    "    rows_number = int((data['long'].max() - data['long'].min()) // delta_y)  + 1\n",
    "    columns_number = int((data['lat'].max() - data['lat'].min()) // delta_x) + 1\n",
    "    data.sort_values(by='diff_in_days_before_first_eqarthquake', inplace=True)\n",
    "    hash_number, idx_col_list, idx_row_list  = [], [], []\n",
    "    for idx, x in data.iterrows():\n",
    "        idx_col = x['lat'] // delta_x \n",
    "        idx_row = x['long'] // delta_y\n",
    "        id_on_grid = ((np.array(range(columns_number)) + idx_row * columns_number))[int(idx_col)]\n",
    "        hash_number.append(id_on_grid)\n",
    "        idx_col_list.append(idx_col)\n",
    "        idx_row_list.append(idx_row)\n",
    "    data['hash_number_on_grid'] = hash_number\n",
    "    data['idx_row'] = idx_row_list\n",
    "    data['idx_col'] = idx_col_list\n",
    "    return data"
   ]
  },
  {
   "cell_type": "code",
   "execution_count": 8,
   "metadata": {
    "collapsed": false
   },
   "outputs": [],
   "source": [
    "data_on_grid = xy_split(0.25, 0.25, data.copy())"
   ]
  },
  {
   "cell_type": "code",
   "execution_count": 9,
   "metadata": {
    "collapsed": false
   },
   "outputs": [],
   "source": [
    "def RTLForEachPoint(r0, t0, data_frame=data_on_grid.copy()):\n",
    "    r, t, l, zero_r, zero_t, zero_l = [], [], [], [], [], []\n",
    "    \n",
    "    for idx, x in data_frame.iterrows():\n",
    "        if idx != 0:\n",
    "            points_before_x = (data_frame.iloc[:idx, :]).copy()\n",
    "            points_before_x['time_delta'] = (x['diff_in_days_before_first_eqarthquake']\\\n",
    "                                             - points_before_x['diff_in_days_before_first_eqarthquake']) + 1e-3\n",
    "            \n",
    "            points_before_x['distance'] = 100. * np.linalg.norm(points_before_x[['lat', 'long']].values\\\n",
    "                                             - x[['lat', 'long']].values, 2, axis=1) + 1e-3\n",
    "            \n",
    "            points_rtl = (points_before_x.loc[(points_before_x['distance'] < 2.*r0)\\\n",
    "                                          & (points_before_x['time_delta'] < 2.*t0)]).copy()\n",
    "            \n",
    "            if points_rtl.shape[0] == 0:\n",
    "                r.append(0.0)\n",
    "                t.append(0.0)\n",
    "                l.append(0.0)\n",
    "            else:\n",
    "                r_x = np.sum(np.exp(-1.0 * points_rtl['distance'].values / r0))\n",
    "                t_x = np.sum(np.exp(-1.0 * points_rtl['time_delta'].values / t0))\n",
    "                l_x = np.sum(points_rtl['l_r'].values / points_rtl['distance'].values)\n",
    "                \n",
    "                if np.isinf(l_x):\n",
    "                    print('UVAGA! VOLK YNES ZAYCHAT!')\n",
    "                    return r_x, t_x, l_x, idx, points_rtl\n",
    "                \n",
    "                r.append(r_x)\n",
    "                t.append(t_x)\n",
    "                l.append(l_x)\n",
    "    \n",
    "    return np.array([0] + r), np.array([0] + t), np.array([0] + l)"
   ]
  },
  {
   "cell_type": "code",
   "execution_count": 10,
   "metadata": {
    "collapsed": false
   },
   "outputs": [
    {
     "name": "stdout",
     "output_type": "stream",
     "text": [
      "0\n",
      "1\n"
     ]
    }
   ],
   "source": [
    "result = []\n",
    "params = zip(np.linspace(100., 201., 2), np.linspace(365. , 2 * 365. , 2))\n",
    "\n",
    "for idx, i in enumerate(params):\n",
    "    print(idx)\n",
    "    result.append(RTLForEachPoint(*i))"
   ]
  },
  {
   "cell_type": "code",
   "execution_count": 11,
   "metadata": {
    "collapsed": false
   },
   "outputs": [],
   "source": [
    "r0, t0, l0 = result[0]\n",
    "r1, t1, l1 = result[1]\n",
    "data_on_grid['r0'], data_on_grid['t0'], data_on_grid['l0'] = r0, t0, l0\n",
    "data_on_grid['r1'], data_on_grid['t1'], data_on_grid['l1'] = r1, t1, l1"
   ]
  },
  {
   "cell_type": "code",
   "execution_count": 13,
   "metadata": {
    "collapsed": false
   },
   "outputs": [],
   "source": [
    "data_on_grid.to_pickle('rtl_dataset')"
   ]
  },
  {
   "cell_type": "markdown",
   "metadata": {},
   "source": [
    "Создаим разметку целевых событи $Y$ для фичей $X^{j}$, каждая их которых проиндексировна по пространству и по времени вектором $(x, y, t)$. Т.е. на самом деле мы создаем разметку для индексов $(x, y, t)$.\n",
    "\n",
    "Будем считать целевым земелетрясением все, что попадает в пространственно временной цилидр, т.е. для статистики, рассчитанной для индекса $(x, y, t)$ ставится в соответcтвие значение $1$, если найдется хотя бы одно землетрясение магнитудой $M>M_c$ с координатами $(x_{e}, y_{e}, t_{e})$ удовлетворяющие системе ограничений:\n",
    "\n",
    "$$\n",
    "\\|(x,y) - (x_{e}, y_{e})\\|\\leq R_c \\\\\n",
    "\\delta_c < t_{e} - t < T_c\n",
    "$$\n",
    "\n",
    "Таким образом, мы заранее отсекаем предвестники, которые реагируют после землетрясения или в окне $[t_{e} - \\delta_c, t_{e}]$\n",
    "\n",
    "Выпишем отдельно параметры процедуры, чтобы не забыть:\n",
    "\n",
    "$$\n",
    "M_c := \\text{магнитуда, от которой землетрясение считается крупным} \\\\\n",
    "R_c := \\text{ максимальное значение нормы разности между координатами рассматриваемой точки и крупным землетрясением} \\\\\n",
    "\\delta_c := \\text{минимальное время реакции до крупного землетрясения} \\\\\n",
    "T_c := \\text{максимальное время реакции заранее}\n",
    "$$"
   ]
  },
  {
   "cell_type": "code",
   "execution_count": 15,
   "metadata": {
    "collapsed": false
   },
   "outputs": [],
   "source": [
    "def ByCoordXYTSayIsItBigBangEnoughNear(idx_features, m_c, r_c, delta_c, t_c):\n",
    "    alarms = []\n",
    "    idx_magnitude = idx_features.loc[idx_features['class'] > m_c]\n",
    "    for _, x in idx_features.iterrows():\n",
    "        distance = np.array(100. * np.linalg.norm(idx_magnitude[['lat', 'long']].values - x[['lat', 'long']].values,\\\n",
    "                                                  2, axis=1))\n",
    "        time_distance = np.array(idx_magnitude['diff_in_days_before_first_eqarthquake'].values \\\n",
    "                         - x['diff_in_days_before_first_eqarthquake'])\n",
    "        is_alarm = np.sum((distance < r_c) * (time_distance < t_c) * (time_distance > delta_c)) > 0\n",
    "        alarms.append(is_alarm)\n",
    "    return alarms"
   ]
  },
  {
   "cell_type": "code",
   "execution_count": 16,
   "metadata": {
    "collapsed": false
   },
   "outputs": [
    {
     "data": {
      "text/plain": [
       "17214"
      ]
     },
     "execution_count": 16,
     "metadata": {},
     "output_type": "execute_result"
    }
   ],
   "source": [
    "y = ByCoordXYTSayIsItBigBangEnoughNear(data_on_grid, 7., 200., 100., 365.)\n",
    "np.sum(y)"
   ]
  },
  {
   "cell_type": "markdown",
   "metadata": {},
   "source": [
    "Рассмотрим количество аномалий в зависимости от изменений пары параметров."
   ]
  },
  {
   "cell_type": "code",
   "execution_count": null,
   "metadata": {
    "collapsed": true
   },
   "outputs": [],
   "source": [
    "m_c = np.around(np.linspace(5., 8., 10), 2)\n",
    "r_c = np.around(np.linspace(50., 500., 20), 2)\n",
    "delta_c = np.around(np.linspace(1., 100., 10.), 2)\n",
    "t_c = np.around(np.linspace(10., 2000., 200), 2)"
   ]
  },
  {
   "cell_type": "code",
   "execution_count": null,
   "metadata": {
    "collapsed": true
   },
   "outputs": [],
   "source": [
    "import seaborn as sns\n",
    "\n",
    "def HeatMapForCoupleParams(x, y, name_x, name_y, func_with_def):\n",
    "    grid_params = np.meshgrid(x, y, indexing='ij')\n",
    "    size_grid = grid_params[1].size\n",
    "    values = func_with_def(*grid_params)\n",
    "    \n",
    "    result = pd.DataFrame({'func': values.reshape(1, size_grid)[0]})\n",
    "    result[name_x] = grid_params[0].reshape(1, size_grid)[0]\n",
    "    result[name_y] = grid_params[1].reshape(1, size_grid)[0]\n",
    "    \n",
    "    sns.heatmap(result.pivot(name_x, name_y, 'func'));\n",
    "    \n",
    "\n",
    "m_d, r_d, delta_d, t_d = 5.5, 100., 1., 365.\n",
    "piu = lambda x,y: np.sum(ByCoordXYTSayIsItBigBangEnoughNear(idx_features=data_on_grid.loc[:,:],\\\n",
    "                                                            m_c=x, r_c=y, delta_c=1, t_c=200))\n",
    "piu = np.vectorize(piu)\n",
    "HeatMapForCoupleParams(m_c, r_c, 'min magnitude level', 'distance', piu)"
   ]
  },
  {
   "cell_type": "markdown",
   "metadata": {},
   "source": [
    "# Эксперимент 1"
   ]
  },
  {
   "cell_type": "markdown",
   "metadata": {},
   "source": [
    "Параметры признаков для $RTL$:\n",
    "\n",
    "$$\n",
    "r_0 = 100 \\\\\n",
    "t_0 = 91.25\n",
    "$$\n",
    "\n",
    "Параметры для построения целевого вектора $Y$:\n",
    "\n",
    "$$\n",
    "m_c = 7. \\\\\n",
    "r_c = 200. \\\\\n",
    "\\delta_c = 1. \\\\\n",
    "t_c = 365.\n",
    "$$\n",
    "\n"
   ]
  },
  {
   "cell_type": "code",
   "execution_count": 18,
   "metadata": {
    "collapsed": false
   },
   "outputs": [],
   "source": [
    "y_true = ByCoordXYTSayIsItBigBangEnoughNear(data_on_grid, 7., 200., 1., 365.)"
   ]
  },
  {
   "cell_type": "code",
   "execution_count": 105,
   "metadata": {
    "collapsed": false
   },
   "outputs": [
    {
     "name": "stdout",
     "output_type": "stream",
     "text": [
      "(247194,)\n",
      "(247194, 3)\n"
     ]
    },
    {
     "name": "stderr",
     "output_type": "stream",
     "text": [
      "/usr/local/lib/python2.7/dist-packages/ipykernel/__main__.py:16: FutureWarning: pd.rolling_mean is deprecated for ndarrays and will be removed in a future version\n",
      "/usr/local/lib/python2.7/dist-packages/ipykernel/__main__.py:17: FutureWarning: pd.rolling_median is deprecated for ndarrays and will be removed in a future version\n",
      "/usr/local/lib/python2.7/dist-packages/ipykernel/__main__.py:18: FutureWarning: pd.rolling_sum is deprecated for ndarrays and will be removed in a future version\n",
      "/usr/local/lib/python2.7/dist-packages/ipykernel/__main__.py:20: FutureWarning: pd.rolling_mean is deprecated for ndarrays and will be removed in a future version\n",
      "/usr/local/lib/python2.7/dist-packages/ipykernel/__main__.py:21: FutureWarning: pd.rolling_median is deprecated for ndarrays and will be removed in a future version\n",
      "/usr/local/lib/python2.7/dist-packages/ipykernel/__main__.py:22: FutureWarning: pd.rolling_sum is deprecated for ndarrays and will be removed in a future version\n",
      "/usr/local/lib/python2.7/dist-packages/ipykernel/__main__.py:24: FutureWarning: pd.rolling_mean is deprecated for ndarrays and will be removed in a future version\n",
      "/usr/local/lib/python2.7/dist-packages/ipykernel/__main__.py:25: FutureWarning: pd.rolling_median is deprecated for ndarrays and will be removed in a future version\n"
     ]
    },
    {
     "name": "stdout",
     "output_type": "stream",
     "text": [
      "(247184,)\n",
      "(247184, 18)\n",
      "(74155,)\n",
      "(74155, 18)\n",
      "(173029,)\n",
      "(173029, 18)\n"
     ]
    },
    {
     "name": "stderr",
     "output_type": "stream",
     "text": [
      "/usr/local/lib/python2.7/dist-packages/ipykernel/__main__.py:26: FutureWarning: pd.rolling_sum is deprecated for ndarrays and will be removed in a future version\n",
      "/usr/local/lib/python2.7/dist-packages/ipykernel/__main__.py:28: FutureWarning: pd.rolling_mean is deprecated for ndarrays and will be removed in a future version\n",
      "/usr/local/lib/python2.7/dist-packages/ipykernel/__main__.py:29: FutureWarning: pd.rolling_median is deprecated for ndarrays and will be removed in a future version\n",
      "/usr/local/lib/python2.7/dist-packages/ipykernel/__main__.py:30: FutureWarning: pd.rolling_sum is deprecated for ndarrays and will be removed in a future version\n"
     ]
    }
   ],
   "source": [
    "X = pd.DataFrame({'r0': r0, 't0': t0, 'l0': l0})\n",
    "y = np.array(y_true)\n",
    "y = y * 1.\n",
    "\n",
    "y = y[10:]\n",
    "X = X.loc[10:,:]\n",
    "\n",
    "print(y.shape)\n",
    "print(X.shape)\n",
    "\n",
    "\n",
    "X.reset_index(inplace=True, drop=True)\n",
    "\n",
    "X['RTL'] = X['r0'].values * X['t0'].values * X['l0'].values\n",
    "\n",
    "X['RTL_mean'] = X['RTL'].values - pd.rolling_mean(X['RTL'].values, 10)\n",
    "X['RTL_median'] = X['RTL'].values - pd.rolling_median(X['RTL'].values, 10)\n",
    "X['RTL_cumsum'] = X['RTL'].values - pd.rolling_sum(X['RTL'].values, 10)\n",
    "\n",
    "X['r_mean'] = X['r0'].values - pd.rolling_mean(X['r0'].values, 10)\n",
    "X['r_median'] = X['r0'].values - pd.rolling_median(X['r0'].values, 10)\n",
    "X['r_cumsum'] = X['r0'].values - pd.rolling_sum(X['r0'].values, 10)\n",
    "\n",
    "X['t_mean'] = X['t0'].values - pd.rolling_mean(X['t0'].values, 10)\n",
    "X['t_median'] = X['t0'].values - pd.rolling_median(X['t0'].values, 10)\n",
    "X['t_cumsum'] = X['t0'].values - pd.rolling_sum(X['t0'].values, 10)\n",
    "\n",
    "X['l_mean'] = X['l0'].values - pd.rolling_mean(X['l0'].values, 10)\n",
    "X['l_median'] = X['l0'].values - pd.rolling_median(X['l0'].values, 10)\n",
    "X['l_cumsum'] = X['l0'].values - pd.rolling_sum(X['l0'].values, 10)\n",
    "\n",
    "X['rtl_demean_by_component'] = X['r_mean'].values * X['t_mean'].values * X['l_mean'].values\n",
    "\n",
    "X = X.loc[10:,:]\n",
    "X.reset_index(inplace=True)\n",
    "y = y[10:]\n",
    "\n",
    "print(y.shape)\n",
    "print(X.shape)\n",
    "\n",
    "size_train = int(X.shape[0] * 0.3)\n",
    "\n",
    "X_train, y_train = X.loc[:(size_train-1),:], y[:size_train]\n",
    "\n",
    "print(y_train.shape)\n",
    "print(X_train.shape)\n",
    "\n",
    "\n",
    "X_test, y_test = X.loc[size_train:,:], y[size_train:]\n",
    "\n",
    "print(y_test.shape)\n",
    "print(X_test.shape)"
   ]
  },
  {
   "cell_type": "code",
   "execution_count": 109,
   "metadata": {
    "collapsed": false
   },
   "outputs": [
    {
     "data": {
      "image/png": "[encoded data removed]",
      "text/plain": [
       "<matplotlib.figure.Figure at 0x7f28361dc8d0>"
      ]
     },
     "metadata": {},
     "output_type": "display_data"
    }
   ],
   "source": [
    "fig = plt.figure(figsize = (20,10))\n",
    "ax = fig.add_subplot(111)\n",
    "earthquake_big_time = np.where(y == 1)[0]\n",
    "[ax.axvline(i, c='r', alpha=0.9) for i in earthquake_big_time];\n",
    "ax.plot(X['r_mean'], label='r0 - mean(ro)');\n",
    "plt.legend();"
   ]
  },
  {
   "cell_type": "code",
   "execution_count": 115,
   "metadata": {
    "collapsed": false
   },
   "outputs": [
    {
     "data": {
      "image/png": "[encoded data removed]",
      "text/plain": [
       "<matplotlib.figure.Figure at 0x7f284b4f6d50>"
      ]
     },
     "metadata": {},
     "output_type": "display_data"
    }
   ],
   "source": [
    "fig = plt.figure(figsize = (20,10))\n",
    "ax = fig.add_subplot(111)\n",
    "earthquake_big_time = np.where(y == 1)[0]\n",
    "[ax.axvline(i, c='r', alpha=0.9) for i in earthquake_big_time];\n",
    "ax.plot(X['l0'], label='l0');\n",
    "plt.legend();"
   ]
  },
  {
   "cell_type": "code",
   "execution_count": 394,
   "metadata": {
    "collapsed": true
   },
   "outputs": [],
   "source": [
    "make_anomaly_start = pd.DataFrame()\n",
    "make_anomaly_start['r'] = X['r0']\n",
    "make_anomaly_start['r_detrend'] = X['r_mean']\n",
    "make_anomaly_start['l'] = X['l0']\n",
    "make_anomaly_start['l_detrend'] = X['l_mean']\n",
    "make_anomaly_start['t'] = X['t0']\n",
    "make_anomaly_start['t_detrend'] = X['t_mean']\n",
    "make_anomaly_start['rtl_detrend'] = X['RTL_mean']"
   ]
  },
  {
   "cell_type": "code",
   "execution_count": 400,
   "metadata": {
    "collapsed": false
   },
   "outputs": [
    {
     "data": {
      "text/html": [
       "<div>\n",
       "<table border=\"1\" class=\"dataframe\">\n",
       "  <thead>\n",
       "    <tr style=\"text-align: right;\">\n",
       "      <th></th>\n",
       "      <th>r</th>\n",
       "      <th>r_detrend</th>\n",
       "      <th>l</th>\n",
       "      <th>l_detrend</th>\n",
       "      <th>t</th>\n",
       "      <th>t_detrend</th>\n",
       "      <th>rtl_detrend</th>\n",
       "    </tr>\n",
       "  </thead>\n",
       "  <tbody>\n",
       "    <tr>\n",
       "      <th>0</th>\n",
       "      <td>0.913419</td>\n",
       "      <td>-1.220135</td>\n",
       "      <td>0.016145</td>\n",
       "      <td>-0.052482</td>\n",
       "      <td>1.992477</td>\n",
       "      <td>-3.300407</td>\n",
       "      <td>-1.454628</td>\n",
       "    </tr>\n",
       "    <tr>\n",
       "      <th>1</th>\n",
       "      <td>1.565481</td>\n",
       "      <td>-0.498165</td>\n",
       "      <td>0.072603</td>\n",
       "      <td>0.003925</td>\n",
       "      <td>2.985940</td>\n",
       "      <td>-2.206142</td>\n",
       "      <td>-1.113371</td>\n",
       "    </tr>\n",
       "    <tr>\n",
       "      <th>2</th>\n",
       "      <td>0.755759</td>\n",
       "      <td>-1.297161</td>\n",
       "      <td>0.019977</td>\n",
       "      <td>-0.045671</td>\n",
       "      <td>3.986534</td>\n",
       "      <td>-1.504250</td>\n",
       "      <td>-1.394243</td>\n",
       "    </tr>\n",
       "    <tr>\n",
       "      <th>3</th>\n",
       "      <td>2.629488</td>\n",
       "      <td>0.408094</td>\n",
       "      <td>0.241800</td>\n",
       "      <td>0.154570</td>\n",
       "      <td>4.985915</td>\n",
       "      <td>-0.504305</td>\n",
       "      <td>1.410904</td>\n",
       "    </tr>\n",
       "    <tr>\n",
       "      <th>4</th>\n",
       "      <td>1.685724</td>\n",
       "      <td>-0.394433</td>\n",
       "      <td>0.043732</td>\n",
       "      <td>-0.038202</td>\n",
       "      <td>5.983442</td>\n",
       "      <td>0.494216</td>\n",
       "      <td>-1.182677</td>\n",
       "    </tr>\n",
       "  </tbody>\n",
       "</table>\n",
       "</div>"
      ],
      "text/plain": [
       "          r  r_detrend         l  l_detrend         t  t_detrend  rtl_detrend\n",
       "0  0.913419  -1.220135  0.016145  -0.052482  1.992477  -3.300407    -1.454628\n",
       "1  1.565481  -0.498165  0.072603   0.003925  2.985940  -2.206142    -1.113371\n",
       "2  0.755759  -1.297161  0.019977  -0.045671  3.986534  -1.504250    -1.394243\n",
       "3  2.629488   0.408094  0.241800   0.154570  4.985915  -0.504305     1.410904\n",
       "4  1.685724  -0.394433  0.043732  -0.038202  5.983442   0.494216    -1.182677"
      ]
     },
     "execution_count": 400,
     "metadata": {},
     "output_type": "execute_result"
    }
   ],
   "source": [
    "make_anomaly_start.head(n=5)"
   ]
  },
  {
   "cell_type": "code",
   "execution_count": 398,
   "metadata": {
    "collapsed": false
   },
   "outputs": [
    {
     "name": "stderr",
     "output_type": "stream",
     "text": [
      "/usr/local/lib/python2.7/dist-packages/ipykernel/__main__.py:9: VisibleDeprecationWarning: using a non-integer number instead of an integer will result in an error in the future\n"
     ]
    }
   ],
   "source": [
    "make_anomaly_train, y_train, make_anomaly_test, y_test = make_anomaly_on_q_level(make_anomaly_start.copy(), y, 0.99, 0.01)"
   ]
  },
  {
   "cell_type": "code",
   "execution_count": 399,
   "metadata": {
    "collapsed": false
   },
   "outputs": [
    {
     "data": {
      "text/plain": [
       "0.069729084783829304"
      ]
     },
     "execution_count": 399,
     "metadata": {},
     "output_type": "execute_result"
    }
   ],
   "source": [
    "recall_score(y_test, make_anomaly_test['l'])"
   ]
  },
  {
   "cell_type": "code",
   "execution_count": 328,
   "metadata": {
    "collapsed": false
   },
   "outputs": [],
   "source": [
    "def make_anomaly_on_q_level(make_anomaly, y, quantile_up, quantile_down):\n",
    "    train_size = 50000\n",
    "    make_anomaly_train, y_train = make_anomaly.loc[:train_size,:], y[:train_size]\n",
    "    make_anomaly_test, y_test =  make_anomaly.loc[train_size:,:], y[train_size:]\n",
    "\n",
    "    threshods = []\n",
    "    for i in make_anomaly.columns:\n",
    "        find_quantile = np.sort(make_anomaly_train[i].values)\n",
    "        threshods.append((find_quantile[train_size * quantile_up], find_quantile[train_size * quantile_down]))\n",
    "\n",
    "    for col, thr in zip(make_anomaly.columns, threshods):\n",
    "        make_anomaly[col] = (np.array(make_anomaly[col]) > 1. * thr[0]) | (np.array(make_anomaly[col]) < -1. * thr[1])\n",
    "\n",
    "    make_anomaly_train, y_train = make_anomaly.loc[:train_size-1,:], y[:train_size]\n",
    "    make_anomaly_test, y_test =  make_anomaly.loc[train_size:,:], y[train_size:]\n",
    "    \n",
    "    return make_anomaly_train, y_train, make_anomaly_test, y_test"
   ]
  },
  {
   "cell_type": "code",
   "execution_count": 440,
   "metadata": {
    "collapsed": false
   },
   "outputs": [],
   "source": [
    "def make_metrics(make_anomaly, y, quantile_up, quantile_down, iter_n='0'):\n",
    "    make_anomaly_train, y_train, make_anomaly_test, y_test = make_anomaly_on_q_level(make_anomaly, y,\\\n",
    "                                                                                     quantile_up, quantile_down)\n",
    "\n",
    "    precision = []\n",
    "    recall = []\n",
    "    specifity = []\n",
    "    f_one = []\n",
    "\n",
    "    for i in make_anomaly.columns:\n",
    "        conf_matrix = confusion_matrix(y_test, make_anomaly_test[i])\n",
    "        specifity.append(conf_matrix[0,0] * 1.0 / (conf_matrix[0,0] + conf_matrix[0,1]))\n",
    "        precision.append(precision_score(y_test, make_anomaly_test[i]))\n",
    "        recall.append(recall_score(y_test, make_anomaly_test[i]))\n",
    "        f_one.append(f1_score(y_test, make_anomaly_test[i]))\n",
    "    \n",
    "    result = pd.DataFrame({'specifity': specifity, 'precision': precision, 'recall': recall, 'f_one': f_one})\n",
    "    result.index = [i + '_' + iter_n for i in ['r', 'r_detrend', 'l', 'l_detrend', 't', 't_detrend', 'rtl_detrend']]\n",
    "    #print(conf_matrix)\n",
    "    return result"
   ]
  },
  {
   "cell_type": "code",
   "execution_count": 441,
   "metadata": {
    "collapsed": true
   },
   "outputs": [],
   "source": [
    "q_u = [0.75, 0.85, 0.95, 0.99]\n",
    "q_d = [0.25, 0.15, 0.05, 0.01]"
   ]
  },
  {
   "cell_type": "code",
   "execution_count": 443,
   "metadata": {
    "collapsed": false
   },
   "outputs": [
    {
     "name": "stderr",
     "output_type": "stream",
     "text": [
      "/usr/local/lib/python2.7/dist-packages/ipykernel/__main__.py:9: VisibleDeprecationWarning: using a non-integer number instead of an integer will result in an error in the future\n"
     ]
    }
   ],
   "source": [
    "make_anomaly_start = pd.DataFrame()\n",
    "make_anomaly_start['r'] = X['r0']\n",
    "make_anomaly_start['r_detrend'] = X['r_mean']\n",
    "make_anomaly_start['l'] = X['l0']\n",
    "make_anomaly_start['l_detrend'] = X['l_mean']\n",
    "make_anomaly_start['t'] = X['t0']\n",
    "make_anomaly_start['t_detrend'] = X['t_mean']\n",
    "make_anomaly_start['rtl_detrend'] = X['RTL_mean']\n",
    "\n",
    "result = []\n",
    "for u, d, n in zip(q_u, q_d, range(len(q_u))):\n",
    "    result.append(make_metrics(make_anomaly_start.copy(), y, u, d, str(n)))"
   ]
  },
  {
   "cell_type": "code",
   "execution_count": 434,
   "metadata": {
    "collapsed": false
   },
   "outputs": [],
   "source": [
    "temp = pd.concat([result[0], result[1], result[2], result[3]], axis=1)"
   ]
  },
  {
   "cell_type": "code",
   "execution_count": 469,
   "metadata": {
    "collapsed": true
   },
   "outputs": [],
   "source": [
    "tabel_all = (result[0].append(result[1]).append(result[2]).append(result[3])).sort_index()"
   ]
  },
  {
   "cell_type": "code",
   "execution_count": 477,
   "metadata": {
    "collapsed": false
   },
   "outputs": [
    {
     "data": {
      "text/html": [
       "<div>\n",
       "<table border=\"1\" class=\"dataframe\">\n",
       "  <thead>\n",
       "    <tr style=\"text-align: right;\">\n",
       "      <th></th>\n",
       "      <th>f_one</th>\n",
       "      <th>precision</th>\n",
       "      <th>recall</th>\n",
       "      <th>specifity</th>\n",
       "    </tr>\n",
       "  </thead>\n",
       "  <tbody>\n",
       "    <tr>\n",
       "      <th>l_0</th>\n",
       "      <td>0.27</td>\n",
       "      <td>0.17</td>\n",
       "      <td>0.63</td>\n",
       "      <td>0.48</td>\n",
       "    </tr>\n",
       "    <tr>\n",
       "      <th>l_detrend_0</th>\n",
       "      <td>0.25</td>\n",
       "      <td>0.14</td>\n",
       "      <td>1.00</td>\n",
       "      <td>0.00</td>\n",
       "    </tr>\n",
       "    <tr>\n",
       "      <th>r_0</th>\n",
       "      <td>0.33</td>\n",
       "      <td>0.21</td>\n",
       "      <td>0.74</td>\n",
       "      <td>0.53</td>\n",
       "    </tr>\n",
       "    <tr>\n",
       "      <th>r_detrend_0</th>\n",
       "      <td>0.25</td>\n",
       "      <td>0.14</td>\n",
       "      <td>1.00</td>\n",
       "      <td>0.00</td>\n",
       "    </tr>\n",
       "    <tr>\n",
       "      <th>rtl_detrend_2</th>\n",
       "      <td>0.25</td>\n",
       "      <td>0.14</td>\n",
       "      <td>0.99</td>\n",
       "      <td>0.00</td>\n",
       "    </tr>\n",
       "    <tr>\n",
       "      <th>t_2</th>\n",
       "      <td>0.36</td>\n",
       "      <td>0.24</td>\n",
       "      <td>0.68</td>\n",
       "      <td>0.64</td>\n",
       "    </tr>\n",
       "    <tr>\n",
       "      <th>t_detrend_2</th>\n",
       "      <td>0.25</td>\n",
       "      <td>0.14</td>\n",
       "      <td>1.00</td>\n",
       "      <td>0.00</td>\n",
       "    </tr>\n",
       "  </tbody>\n",
       "</table>\n",
       "</div>"
      ],
      "text/plain": [
       "               f_one  precision  recall  specifity\n",
       "l_0             0.27       0.17    0.63       0.48\n",
       "l_detrend_0     0.25       0.14    1.00       0.00\n",
       "r_0             0.33       0.21    0.74       0.53\n",
       "r_detrend_0     0.25       0.14    1.00       0.00\n",
       "rtl_detrend_2   0.25       0.14    0.99       0.00\n",
       "t_2             0.36       0.24    0.68       0.64\n",
       "t_detrend_2     0.25       0.14    1.00       0.00"
      ]
     },
     "execution_count": 477,
     "metadata": {},
     "output_type": "execute_result"
    }
   ],
   "source": [
    "(tabel_all.ix[['l_0', 'l_detrend_0', 'r_0', 'r_detrend_0', 'rtl_detrend_2', 't_2', 't_detrend_2'],:]).round(2)"
   ]
  },
  {
   "cell_type": "code",
   "execution_count": 474,
   "metadata": {
    "collapsed": false
   },
   "outputs": [
    {
     "data": {
      "text/html": [
       "<div>\n",
       "<table border=\"1\" class=\"dataframe\">\n",
       "  <thead>\n",
       "    <tr style=\"text-align: right;\">\n",
       "      <th></th>\n",
       "      <th>f_one</th>\n",
       "      <th>precision</th>\n",
       "      <th>recall</th>\n",
       "      <th>specifity</th>\n",
       "    </tr>\n",
       "  </thead>\n",
       "  <tbody>\n",
       "    <tr>\n",
       "      <th>l_0</th>\n",
       "      <td>0.267327</td>\n",
       "      <td>0.169658</td>\n",
       "      <td>0.630018</td>\n",
       "      <td>0.479121</td>\n",
       "    </tr>\n",
       "    <tr>\n",
       "      <th>l_1</th>\n",
       "      <td>0.242154</td>\n",
       "      <td>0.159700</td>\n",
       "      <td>0.500632</td>\n",
       "      <td>0.555013</td>\n",
       "    </tr>\n",
       "    <tr>\n",
       "      <th>l_2</th>\n",
       "      <td>0.168571</td>\n",
       "      <td>0.125346</td>\n",
       "      <td>0.257299</td>\n",
       "      <td>0.696706</td>\n",
       "    </tr>\n",
       "    <tr>\n",
       "      <th>l_3</th>\n",
       "      <td>0.065882</td>\n",
       "      <td>0.062437</td>\n",
       "      <td>0.069729</td>\n",
       "      <td>0.823123</td>\n",
       "    </tr>\n",
       "    <tr>\n",
       "      <th>l_detrend_0</th>\n",
       "      <td>0.252535</td>\n",
       "      <td>0.144515</td>\n",
       "      <td>1.000000</td>\n",
       "      <td>0.000000</td>\n",
       "    </tr>\n",
       "    <tr>\n",
       "      <th>l_detrend_1</th>\n",
       "      <td>0.252535</td>\n",
       "      <td>0.144515</td>\n",
       "      <td>1.000000</td>\n",
       "      <td>0.000000</td>\n",
       "    </tr>\n",
       "    <tr>\n",
       "      <th>l_detrend_2</th>\n",
       "      <td>0.248492</td>\n",
       "      <td>0.143009</td>\n",
       "      <td>0.947010</td>\n",
       "      <td>0.041331</td>\n",
       "    </tr>\n",
       "    <tr>\n",
       "      <th>l_detrend_3</th>\n",
       "      <td>0.247368</td>\n",
       "      <td>0.143060</td>\n",
       "      <td>0.913216</td>\n",
       "      <td>0.075927</td>\n",
       "    </tr>\n",
       "    <tr>\n",
       "      <th>r_0</th>\n",
       "      <td>0.327164</td>\n",
       "      <td>0.210127</td>\n",
       "      <td>0.738490</td>\n",
       "      <td>0.531057</td>\n",
       "    </tr>\n",
       "    <tr>\n",
       "      <th>r_1</th>\n",
       "      <td>0.323299</td>\n",
       "      <td>0.213544</td>\n",
       "      <td>0.665181</td>\n",
       "      <td>0.586165</td>\n",
       "    </tr>\n",
       "    <tr>\n",
       "      <th>r_2</th>\n",
       "      <td>0.310347</td>\n",
       "      <td>0.214916</td>\n",
       "      <td>0.558219</td>\n",
       "      <td>0.655530</td>\n",
       "    </tr>\n",
       "    <tr>\n",
       "      <th>r_3</th>\n",
       "      <td>0.260797</td>\n",
       "      <td>0.191384</td>\n",
       "      <td>0.409215</td>\n",
       "      <td>0.707928</td>\n",
       "    </tr>\n",
       "    <tr>\n",
       "      <th>r_detrend_0</th>\n",
       "      <td>0.252535</td>\n",
       "      <td>0.144515</td>\n",
       "      <td>1.000000</td>\n",
       "      <td>0.000000</td>\n",
       "    </tr>\n",
       "    <tr>\n",
       "      <th>r_detrend_1</th>\n",
       "      <td>0.252535</td>\n",
       "      <td>0.144515</td>\n",
       "      <td>1.000000</td>\n",
       "      <td>0.000000</td>\n",
       "    </tr>\n",
       "    <tr>\n",
       "      <th>r_detrend_2</th>\n",
       "      <td>0.250151</td>\n",
       "      <td>0.143392</td>\n",
       "      <td>0.979190</td>\n",
       "      <td>0.011844</td>\n",
       "    </tr>\n",
       "    <tr>\n",
       "      <th>r_detrend_3</th>\n",
       "      <td>0.248386</td>\n",
       "      <td>0.143003</td>\n",
       "      <td>0.944168</td>\n",
       "      <td>0.044164</td>\n",
       "    </tr>\n",
       "    <tr>\n",
       "      <th>rtl_detrend_0</th>\n",
       "      <td>0.252535</td>\n",
       "      <td>0.144515</td>\n",
       "      <td>1.000000</td>\n",
       "      <td>0.000000</td>\n",
       "    </tr>\n",
       "    <tr>\n",
       "      <th>rtl_detrend_1</th>\n",
       "      <td>0.252535</td>\n",
       "      <td>0.144515</td>\n",
       "      <td>1.000000</td>\n",
       "      <td>0.000000</td>\n",
       "    </tr>\n",
       "    <tr>\n",
       "      <th>rtl_detrend_2</th>\n",
       "      <td>0.251465</td>\n",
       "      <td>0.143993</td>\n",
       "      <td>0.991472</td>\n",
       "      <td>0.004328</td>\n",
       "    </tr>\n",
       "    <tr>\n",
       "      <th>rtl_detrend_3</th>\n",
       "      <td>0.249385</td>\n",
       "      <td>0.142973</td>\n",
       "      <td>0.975225</td>\n",
       "      <td>0.012485</td>\n",
       "    </tr>\n",
       "    <tr>\n",
       "      <th>t_0</th>\n",
       "      <td>0.332537</td>\n",
       "      <td>0.211207</td>\n",
       "      <td>0.781443</td>\n",
       "      <td>0.506995</td>\n",
       "    </tr>\n",
       "    <tr>\n",
       "      <th>t_1</th>\n",
       "      <td>0.339663</td>\n",
       "      <td>0.222594</td>\n",
       "      <td>0.716487</td>\n",
       "      <td>0.577291</td>\n",
       "    </tr>\n",
       "    <tr>\n",
       "      <th>t_2</th>\n",
       "      <td>0.357979</td>\n",
       "      <td>0.243048</td>\n",
       "      <td>0.679113</td>\n",
       "      <td>0.642713</td>\n",
       "    </tr>\n",
       "    <tr>\n",
       "      <th>t_3</th>\n",
       "      <td>0.350685</td>\n",
       "      <td>0.244895</td>\n",
       "      <td>0.617385</td>\n",
       "      <td>0.678424</td>\n",
       "    </tr>\n",
       "    <tr>\n",
       "      <th>t_detrend_0</th>\n",
       "      <td>0.252535</td>\n",
       "      <td>0.144515</td>\n",
       "      <td>1.000000</td>\n",
       "      <td>0.000000</td>\n",
       "    </tr>\n",
       "    <tr>\n",
       "      <th>t_detrend_1</th>\n",
       "      <td>0.252535</td>\n",
       "      <td>0.144515</td>\n",
       "      <td>1.000000</td>\n",
       "      <td>0.000000</td>\n",
       "    </tr>\n",
       "    <tr>\n",
       "      <th>t_detrend_2</th>\n",
       "      <td>0.252119</td>\n",
       "      <td>0.144338</td>\n",
       "      <td>0.995438</td>\n",
       "      <td>0.003136</td>\n",
       "    </tr>\n",
       "    <tr>\n",
       "      <th>t_detrend_3</th>\n",
       "      <td>0.251667</td>\n",
       "      <td>0.144102</td>\n",
       "      <td>0.992560</td>\n",
       "      <td>0.004120</td>\n",
       "    </tr>\n",
       "  </tbody>\n",
       "</table>\n",
       "</div>"
      ],
      "text/plain": [
       "                  f_one  precision    recall  specifity\n",
       "l_0            0.267327   0.169658  0.630018   0.479121\n",
       "l_1            0.242154   0.159700  0.500632   0.555013\n",
       "l_2            0.168571   0.125346  0.257299   0.696706\n",
       "l_3            0.065882   0.062437  0.069729   0.823123\n",
       "l_detrend_0    0.252535   0.144515  1.000000   0.000000\n",
       "l_detrend_1    0.252535   0.144515  1.000000   0.000000\n",
       "l_detrend_2    0.248492   0.143009  0.947010   0.041331\n",
       "l_detrend_3    0.247368   0.143060  0.913216   0.075927\n",
       "r_0            0.327164   0.210127  0.738490   0.531057\n",
       "r_1            0.323299   0.213544  0.665181   0.586165\n",
       "r_2            0.310347   0.214916  0.558219   0.655530\n",
       "r_3            0.260797   0.191384  0.409215   0.707928\n",
       "r_detrend_0    0.252535   0.144515  1.000000   0.000000\n",
       "r_detrend_1    0.252535   0.144515  1.000000   0.000000\n",
       "r_detrend_2    0.250151   0.143392  0.979190   0.011844\n",
       "r_detrend_3    0.248386   0.143003  0.944168   0.044164\n",
       "rtl_detrend_0  0.252535   0.144515  1.000000   0.000000\n",
       "rtl_detrend_1  0.252535   0.144515  1.000000   0.000000\n",
       "rtl_detrend_2  0.251465   0.143993  0.991472   0.004328\n",
       "rtl_detrend_3  0.249385   0.142973  0.975225   0.012485\n",
       "t_0            0.332537   0.211207  0.781443   0.506995\n",
       "t_1            0.339663   0.222594  0.716487   0.577291\n",
       "t_2            0.357979   0.243048  0.679113   0.642713\n",
       "t_3            0.350685   0.244895  0.617385   0.678424\n",
       "t_detrend_0    0.252535   0.144515  1.000000   0.000000\n",
       "t_detrend_1    0.252535   0.144515  1.000000   0.000000\n",
       "t_detrend_2    0.252119   0.144338  0.995438   0.003136\n",
       "t_detrend_3    0.251667   0.144102  0.992560   0.004120"
      ]
     },
     "execution_count": 474,
     "metadata": {},
     "output_type": "execute_result"
    }
   ],
   "source": [
    "tabel_all"
   ]
  },
  {
   "cell_type": "code",
   "execution_count": 478,
   "metadata": {
    "collapsed": true
   },
   "outputs": [],
   "source": [
    "import itertools"
   ]
  },
  {
   "cell_type": "code",
   "execution_count": 479,
   "metadata": {
    "collapsed": false
   },
   "outputs": [
    {
     "data": {
      "text/plain": [
       "array([ 0.,  0.,  0., ...,  0.,  0.,  0.])"
      ]
     },
     "execution_count": 479,
     "metadata": {},
     "output_type": "execute_result"
    }
   ],
   "source": []
  },
  {
   "cell_type": "code",
   "execution_count": 480,
   "metadata": {
    "collapsed": false
   },
   "outputs": [
    {
     "name": "stdout",
     "output_type": "stream",
     "text": [
      "[[119419  49269]\n",
      " [ 16835  11661]]\n",
      "[[  7450 161238]\n",
      " [  1591  26905]]\n",
      "[[138851  29837]\n",
      " [ 26509   1987]]\n",
      "[[ 12808 155880]\n",
      " [  2473  26023]]\n",
      "[[114442  54246]\n",
      " [ 10903  17593]]\n",
      "[[   695 167993]\n",
      " [   212  28284]]\n",
      "[[  2106 166582]\n",
      " [   706  27790]]\n"
     ]
    }
   ],
   "source": [
    "for i in make_anomaly.columns:\n",
    "        print confusion_matrix(y_test, make_anomaly_test[i])"
   ]
  },
  {
   "cell_type": "code",
   "execution_count": 486,
   "metadata": {
    "collapsed": false
   },
   "outputs": [
    {
     "data": {
      "text/plain": [
       "168688"
      ]
     },
     "execution_count": 486,
     "metadata": {},
     "output_type": "execute_result"
    }
   ],
   "source": [
    "np.sum(y_test == 0)"
   ]
  },
  {
   "cell_type": "code",
   "execution_count": 482,
   "metadata": {
    "collapsed": false
   },
   "outputs": [
    {
     "data": {
      "text/plain": [
       "168688"
      ]
     },
     "execution_count": 482,
     "metadata": {},
     "output_type": "execute_result"
    }
   ],
   "source": [
    "119419+49269"
   ]
  },
  {
   "cell_type": "code",
   "execution_count": 484,
   "metadata": {
    "collapsed": false
   },
   "outputs": [
    {
     "data": {
      "text/plain": [
       "array([[119419,  49269],\n",
       "       [ 16835,  11661]])"
      ]
     },
     "execution_count": 484,
     "metadata": {},
     "output_type": "execute_result"
    }
   ],
   "source": [
    "confusion_matrix(y_test, make_anomaly_test['r'])"
   ]
  },
  {
   "cell_type": "code",
   "execution_count": null,
   "metadata": {
    "collapsed": true
   },
   "outputs": [],
   "source": []
  }
 ],
 "metadata": {
  "kernelspec": {
   "display_name": "Python 2",
   "language": "python",
   "name": "python2"
  },
  "language_info": {
   "codemirror_mode": {
    "name": "ipython",
    "version": 2
   },
   "file_extension": ".py",
   "mimetype": "text/x-python",
   "name": "python",
   "nbconvert_exporter": "python",
   "pygments_lexer": "ipython2",
   "version": "2.7.6"
  }
 },
 "nbformat": 4,
 "nbformat_minor": 1
}
