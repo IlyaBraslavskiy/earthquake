{
 "cells": [
  {
   "cell_type": "code",
   "execution_count": 2,
   "metadata": {
    "collapsed": false
   },
   "outputs": [],
   "source": [
    "%matplotlib inline\n",
    "import matplotlib.pyplot as plt\n",
    "import pandas as pd\n",
    "import numpy as np\n",
    "from scipy import stats\n",
    "from scripts import make_grid as mg"
   ]
  },
  {
   "cell_type": "markdown",
   "metadata": {},
   "source": [
    "Все функии для модели описаны в этом модуле:"
   ]
  },
  {
   "cell_type": "code",
   "execution_count": 3,
   "metadata": {
    "collapsed": true
   },
   "outputs": [],
   "source": [
    "from scripts import poisson_covariance as pc"
   ]
  },
  {
   "cell_type": "code",
   "execution_count": 4,
   "metadata": {
    "collapsed": true
   },
   "outputs": [],
   "source": [
    "data = pd.read_pickle('work_catalog_pd')"
   ]
  },
  {
   "cell_type": "markdown",
   "metadata": {},
   "source": [
    "Модели, которые рассматриваются ниже более требовательны к наличию наблюдений в одной ячейки.\n",
    "Поэтому возьмем сетку по пространству значительно крупнее."
   ]
  },
  {
   "cell_type": "markdown",
   "metadata": {},
   "source": [
    "Разобьем все наблюдения по пространственной сетке на $2\\times 2$ и $48$ суток в ячейке по времени. $20$ отсчетов отделим как тренеровочную выборку."
   ]
  },
  {
   "cell_type": "code",
   "execution_count": 5,
   "metadata": {
    "collapsed": true
   },
   "outputs": [],
   "source": [
    "time_split = mg.TXYSplit(data, 48.0, 2, 2)\n",
    "xyt_matrix = mg.TXYMatrix(time_split, 2, 2)\n",
    "xyt_matrix_train, xyt_matrix_test = (xyt_matrix[:,:,:20]).copy(), (xyt_matrix[:,:,20:]).copy()"
   ]
  },
  {
   "cell_type": "code",
   "execution_count": 6,
   "metadata": {
    "collapsed": false
   },
   "outputs": [
    {
     "data": {
      "text/plain": [
       "(10, 20, 200)"
      ]
     },
     "execution_count": 6,
     "metadata": {},
     "output_type": "execute_result"
    }
   ],
   "source": [
    "xyt_matrix.shape"
   ]
  },
  {
   "cell_type": "markdown",
   "metadata": {},
   "source": [
    "Сформируем матрицу, где для каждой ячейки в каждый момент времени поднимется флаг аномалии."
   ]
  },
  {
   "cell_type": "code",
   "execution_count": 7,
   "metadata": {
    "collapsed": true
   },
   "outputs": [],
   "source": [
    "anomaly_flag = mg.target_anomaly_matrix(xyt_matrix_test, 7.0)\n",
    "anomaly_x, anomaly_y, anomaly_t = np.where(anomaly_flag != 0)\n",
    "anomaly_coord = zip(anomaly_x, anomaly_y, anomaly_t)"
   ]
  },
  {
   "cell_type": "code",
   "execution_count": 23,
   "metadata": {
    "collapsed": false
   },
   "outputs": [
    {
     "data": {
      "text/plain": [
       "[(1, 6, 8),\n",
       " (1, 6, 91),\n",
       " (2, 4, 61),\n",
       " (2, 5, 18),\n",
       " (3, 8, 140),\n",
       " (3, 9, 153),\n",
       " (3, 10, 160),\n",
       " (4, 8, 81),\n",
       " (4, 8, 98),\n",
       " (4, 8, 119),\n",
       " (4, 8, 141),\n",
       " (4, 9, 140),\n",
       " (4, 9, 143),\n",
       " (4, 10, 100),\n",
       " (4, 10, 140),\n",
       " (5, 8, 18),\n",
       " (5, 9, 18),\n",
       " (5, 9, 84),\n",
       " (5, 9, 121),\n",
       " (6, 3, 50),\n",
       " (6, 4, 14),\n",
       " (6, 7, 7),\n",
       " (6, 9, 3),\n",
       " (6, 10, 93)]"
      ]
     },
     "execution_count": 23,
     "metadata": {},
     "output_type": "execute_result"
    }
   ],
   "source": [
    "anomaly_coord"
   ]
  },
  {
   "cell_type": "markdown",
   "metadata": {},
   "source": [
    "Рассмотрим пуассоновский процесс количества землетрясений для каждой ячейки, где интенсивность зависит от вектора некоторых параметров $X$ линейно через вектор коэффициентов $\\beta$. Получим апостериорное распределение на $\\beta$ и прогнозную плотность. Таким образом мы сможем детектировать аномальные значения:\n",
    " + $\\beta_{t+1}$ относительно распределения $\\beta_{t}$\n",
    " + невязки между прогноза на количество землетрясений $t+1$ при полученных $x_{t+1}$ по прогнозной плости обученной до момента $t$"
   ]
  },
  {
   "cell_type": "markdown",
   "metadata": {},
   "source": [
    "Пусть количество $y$ земелтрясений распределено согласно закону:\n",
    "\n",
    "$$\n",
    "y\\sim Poisson(\\mu(x))\n",
    "$$\n",
    "\n",
    "Параметризуем интесивность: \n",
    "\n",
    "$$\n",
    "\\mu(x) = \\exp(\\lambda(x))\n",
    "$$\n",
    "\n",
    "$$\n",
    "\\lambda(x) = x^T\\beta\n",
    "$$\n",
    "\n",
    "Введем априорное распределение на $\\beta$:\n",
    "\n",
    "$$\n",
    "\\beta\\sim\\mathcal{N}(0, \\Sigma_p)\n",
    "$$\n"
   ]
  },
  {
   "cell_type": "markdown",
   "metadata": {},
   "source": [
    "Тогда функция правдоподобия вектора количеств земелетрясений $y$ при фиксированных $X$, $\\beta$:\n",
    "    \n",
    "$$\n",
    "p(y|X,\\beta) = \\prod\\limits_{i=1}^{N}\\dfrac{1}{y_i!}\\mu(x_i)^{y_i}\\exp(-\\mu(x_i)) = \\\\\n",
    "\\prod\\limits_{i=1}^{N}\\dfrac{1}{y_i\\cdot(y_i-1)}\\exp(y_i\\lambda(x_i))\\exp[-\\exp(\\lambda(x_i))]\n",
    "$$"
   ]
  },
  {
   "cell_type": "markdown",
   "metadata": {},
   "source": [
    "Т.к. мы ввели $\\beta\\sim\\mathcal{N}$, то полное правдоподобие будет неспоряженным. Придется использовать $MCMC$ семплирование для оценки апостериорного распределения, чего хотелось бы избежать. Хочется получить простые формулы пересчета для каждого нового момента $t+1$, т.к. мы будем считать на сетке $200\\times400$. К тому же, итоговая цель не точное предсказание числа землетрясений, а предсказание аномально сильных. Поэтому нам необходимо иметь лишь достаточную точность моделей для улавливания предвестников таких событий. Поэтому будем использовать аппроксимацию.\n",
    "\n",
    "Пусть $\\mu\\sim\\Gamma(a, b)$. $\\lambda = \\log\\mu$ Но логарифм гамма распределения хорошо аппроксимируется нормальным с параметрами:\n",
    "$$\n",
    "\\log\\mu\\sim\\mathcal{N}(\\log{a}+\\log{b},a^{-1})\n",
    "$$\n",
    "\n",
    "Положим $b=1$ b получаем, что:\n",
    "\n",
    "$$\n",
    "\\lambda = \\log\\mu\\sim\\mathcal{N}(\\log{a},a^{-1})\n",
    "$$\n",
    "\n",
    "В итоге получаем, лографим правдоподобия проропрционален:\n",
    "\n",
    "$$\n",
    "\\log p(y|X,\\beta)\\propto -\\dfrac{1}{2}\\left([X^T\\beta - \\log y]\\operatorname{diag}y_i)[X^T\\beta - \\log y]^T\\right)\n",
    "$$\n",
    "\n",
    "Тогда полное правдоподобие:\n",
    "\n",
    "$$\n",
    "\\log p(y|X,\\beta)p(\\beta) \\propto -\\dfrac{1}{2}\\left([X^T\\beta - \\log y]\\operatorname{diag}y_i[X^T\\beta - \\log y]^T\\right) -\\dfrac{1}{2}\\beta\\Sigma_p^{-1}\\beta^T\n",
    "$$\n",
    "\n",
    "И значит \n",
    "\n",
    "$$\n",
    "p(\\beta|X, y)\\sim\\mathcal{N}(\\beta|\\mu_{\\beta}, \\Sigma_{\\beta})\n",
    "$$\n",
    "\n",
    "Максимизируя квадратичную форму, находим, что\n",
    "\n",
    "$$\n",
    "\\mu_{\\beta} = (X\\Sigma^{-1}_yX^T+\\Sigma_p^{-1})^{-1}X\\Sigma_y^{-1}\\log y\n",
    "$$\n",
    "\n",
    "$$\n",
    "\\Sigma_{\\beta} = (X\\Sigma^{-1}_yX^T+\\Sigma_p^{-1})^{-1}\n",
    "$$\n",
    "\n",
    "$$\n",
    "X = [x_1\\dots x_N],~\\Sigma_y = \\operatorname{diag}\\dfrac{1}{y_i}$$"
   ]
  },
  {
   "cell_type": "markdown",
   "metadata": {},
   "source": [
    "Выпишем также формулу пересчета $\\beta_{t+1}$, при априорном распределении $\\beta_t$\n",
    "\n",
    "$$\n",
    "p(\\beta_{t+1}|\\beta_{t})\\sim\\mathcal{N}(\\mu', \\Sigma') \\\\\n",
    "$$\n",
    "\n",
    "\n",
    "$$\n",
    "\\mu' = (\\Sigma^{-1}_{\\beta_t} + x_i\\Sigma^{-1}_{y_{t+1}}x_i^T)^{-1}(\\Sigma^{-1}_{\\beta_t}\\mu_{\\beta_t}+ x_i\\Sigma^{-1}_{y_{t+1}}\\log y_{t+1})\n",
    "$$\n",
    "\n",
    "\n",
    "$$\n",
    "\\Sigma' = (\\Sigma^{-1}_{\\beta_t} + x_i\\Sigma^{-1}_{y_{t+1}}x_i^T)^{-1}\n",
    "$$"
   ]
  },
  {
   "cell_type": "markdown",
   "metadata": {},
   "source": [
    "Теперь необходимо найти предсказательную плотность. \n",
    "\n",
    "$$\n",
    "p(y_{new}|x_{new}, X,y) = \\int p(y_{new}|x_{new},\\beta)p(\\beta|X,y)d\\beta\n",
    "$$\n",
    "\n",
    "Опуская выкладки, получаем:\n",
    "\n",
    "$$\n",
    "p(y_{new}|x_{new}, X,y)\\sim\\text{NegBin}(r, p) \\\\\n",
    "p = \\dfrac{e^{\\mu_{\\lambda}}}{e^{\\mu_{\\lambda}} + \\sigma^{-2}_{\\lambda}} \\\\\n",
    "r = \\sigma^{-2}_{\\lambda} \\\\\n",
    "\\\\\n",
    "\\mu_{\\lambda} = x_{new}^T\\mu_{\\beta} \\\\\n",
    "\\sigma^2_{\\lambda} = x_{new}^T\\Sigma_{\\beta}x_{new}\n",
    "$$\n",
    "\n",
    "Заметим, что также была получаенна аппроксимация на распределение $\\lambda\\sim\\mathcal{N}(\\mu_{\\lambda}, \\sigma^2_{\\lambda})$"
   ]
  },
  {
   "cell_type": "markdown",
   "metadata": {},
   "source": [
    "Обучимся сначала на каждой ячейки на $train$ части, т.е. первых $20$ отсчетах сетки."
   ]
  },
  {
   "cell_type": "markdown",
   "metadata": {},
   "source": [
    "Далее модели будут различаться только матрицей $X$"
   ]
  },
  {
   "cell_type": "markdown",
   "metadata": {},
   "source": [
    "### Модель 1"
   ]
  },
  {
   "cell_type": "markdown",
   "metadata": {},
   "source": [
    "Первая модель будет \"изолированная\". Будем в качестве регрессоров использовать статистики о магнитуде различных землетрясений только внутри одной ячейки:\n",
    "\n",
    "$$\n",
    "x_i = [\\min[M(Cell_i)], \\operatorname{median}[M(Cell_i)]\\max[M(Cell_i)]]\n",
    "$$"
   ]
  },
  {
   "cell_type": "code",
   "execution_count": 8,
   "metadata": {
    "collapsed": false
   },
   "outputs": [],
   "source": [
    "T = 20\n",
    "t_matrix_train = xyt_matrix_train[6, 10,:]\n",
    "t_matrix_test = xyt_matrix_test[6, 10,:]\n",
    "params = pc.BetaStatisticWindowEstimation(t_matrix_train, t_matrix_test, T)"
   ]
  },
  {
   "cell_type": "code",
   "execution_count": 9,
   "metadata": {
    "collapsed": false
   },
   "outputs": [],
   "source": [
    "current_sigma, current_mu = params['sigma'][1:], params['mu'][1:]\n",
    "past_sigma, past_mu = params['sigma'][:-1], params['mu'][:-1]"
   ]
  },
  {
   "cell_type": "markdown",
   "metadata": {},
   "source": [
    "Рассчитаем вероятность более экстремальных событий, чем $\\mathbb{E}_{t+1}\\beta_{t+1}$ по распределению $\\beta_t$"
   ]
  },
  {
   "cell_type": "code",
   "execution_count": 13,
   "metadata": {
    "collapsed": false
   },
   "outputs": [],
   "source": [
    "p_value = pc.ProbCurrentMuInPastVector(past_sigma, past_mu, current_sigma, current_mu)"
   ]
  },
  {
   "cell_type": "markdown",
   "metadata": {},
   "source": [
    "Рассчитаем $KL$ дивергенцию между распределениями $\\beta_{t+1}$ и $\\beta_t$"
   ]
  },
  {
   "cell_type": "code",
   "execution_count": 15,
   "metadata": {
    "collapsed": false
   },
   "outputs": [],
   "source": [
    "KLFuturePast = pc.KLdivergenceNormalsVector(past_sigma, past_mu, current_sigma, current_mu)\n",
    "KLPastFuture = pc.KLdivergenceNormalsVector(current_sigma, current_mu, past_sigma, past_mu)"
   ]
  },
  {
   "cell_type": "markdown",
   "metadata": {},
   "source": [
    "Рассчитаем отношение $\\dfrac{\\log p_{t+1}(\\mathbb{E}_{t+1}\\beta)}{\\log p_{t}(\\mathbb{E}_{t+1}\\beta)}$"
   ]
  },
  {
   "cell_type": "code",
   "execution_count": 16,
   "metadata": {
    "collapsed": false
   },
   "outputs": [],
   "source": [
    "log_odds = pc.LogOddsRationVector(past_sigma, past_mu, current_sigma, current_mu)"
   ]
  },
  {
   "cell_type": "markdown",
   "metadata": {},
   "source": [
    "Будем находить распределение $y_{t+1}$ (предсказание) по модели $\\beta_t$ при наблюдении $x_{t+1}$. Для этого для каждого $\\beta_t$ и $x_{t+1}$ необходимо рассчитать параметры распределение $\\lambda_t\\sim\\mathcal{N}$"
   ]
  },
  {
   "cell_type": "code",
   "execution_count": 17,
   "metadata": {
    "collapsed": false
   },
   "outputs": [],
   "source": [
    "x = np.asarray(pc.CellXEstimateVector(t_matrix_test))\n",
    "lambda_params = pc.LambdaVectorEstimation(params, x)"
   ]
  },
  {
   "cell_type": "code",
   "execution_count": 18,
   "metadata": {
    "collapsed": false
   },
   "outputs": [],
   "source": [
    "mode_prediction = pc.ModePredictionYVector(lambda_params['sigma'], lambda_params['mu'])\n",
    "mean_prediction = pc.ExpectationPredictionYVector(lambda_params['sigma'], lambda_params['mu'])"
   ]
  },
  {
   "cell_type": "code",
   "execution_count": 19,
   "metadata": {
    "collapsed": false
   },
   "outputs": [],
   "source": [
    "y_real = pc.CellYEstimateVector(t_matrix_test)\n",
    "y_real = y_real[1:]"
   ]
  },
  {
   "cell_type": "markdown",
   "metadata": {},
   "source": [
    "Все работает. Сведем все в одну функцию, которая принимает на вход координты ячейки и выдает матрицу фичей, где номер строки отвечает шагу по времени, за вычетом train и одного наблюдения."
   ]
  },
  {
   "cell_type": "code",
   "execution_count": 24,
   "metadata": {
    "collapsed": true
   },
   "outputs": [],
   "source": [
    "T = 20\n",
    "t_matrix_train = xyt_matrix_train[6, 10,:]\n",
    "t_matrix_test = xyt_matrix_test[6, 10,:]\n",
    "result = cp.MakeDictStatistics(T, t_matrix_train, t_matrix_test)"
   ]
  }
 ],
 "metadata": {
  "kernelspec": {
   "display_name": "Python 2",
   "language": "python",
   "name": "python2"
  },
  "language_info": {
   "codemirror_mode": {
    "name": "ipython",
    "version": 2
   },
   "file_extension": ".py",
   "mimetype": "text/x-python",
   "name": "python",
   "nbconvert_exporter": "python",
   "pygments_lexer": "ipython2",
   "version": "2.7.6"
  }
 },
 "nbformat": 4,
 "nbformat_minor": 1
}
