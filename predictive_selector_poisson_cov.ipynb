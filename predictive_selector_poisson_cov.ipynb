{
 "cells": [
  {
   "cell_type": "code",
   "execution_count": 1,
   "metadata": {
    "collapsed": true
   },
   "outputs": [],
   "source": [
    "%matplotlib inline\n",
    "import matplotlib.pyplot as plt\n",
    "import pandas as pd\n",
    "import numpy as np\n",
    "from scipy import stats\n",
    "from scripts import make_grid as mg"
   ]
  },
  {
   "cell_type": "code",
   "execution_count": 3,
   "metadata": {
    "collapsed": true
   },
   "outputs": [],
   "source": [
    "from scripts import poisson_covariance as pc"
   ]
  },
  {
   "cell_type": "code",
   "execution_count": 4,
   "metadata": {
    "collapsed": true
   },
   "outputs": [],
   "source": [
    "data = pd.read_pickle('work_catalog_pd')"
   ]
  },
  {
   "cell_type": "code",
   "execution_count": null,
   "metadata": {
    "collapsed": true
   },
   "outputs": [],
   "source": [
    "time_split = mg.TXYSplit(data, 10.0, 2, 2)\n",
    "xyt_matrix = mg.TXYMatrix(time_split, 2, 2)\n",
    "t = int(xyt_matrix.shape[2] * 0.05)\n",
    "xyt_matrix_train, xyt_matrix_test = (xyt_matrix[:,:,:t]).copy(), (xyt_matrix[:,:,t:]).copy()"
   ]
  },
  {
   "cell_type": "code",
   "execution_count": 135,
   "metadata": {
    "collapsed": true
   },
   "outputs": [],
   "source": [
    "anomaly_flag = mg.target_anomaly_matrix(xyt_matrix_test, 7.0)\n",
    "anomaly_x, anomaly_y, anomaly_t = np.where(anomaly_flag != 0)\n",
    "anomaly_coord = zip(anomaly_x, anomaly_y, anomaly_t)"
   ]
  },
  {
   "cell_type": "code",
   "execution_count": 160,
   "metadata": {
    "collapsed": false
   },
   "outputs": [],
   "source": [
    "T = 1000\n",
    "t_matrix_train = xyt_matrix_train[6, 10,:]\n",
    "t_matrix_test = xyt_matrix_test[6, 10,:]\n",
    "result = pc.MakeDictStatistics(T, t_matrix_train, t_matrix_test)"
   ]
  },
  {
   "cell_type": "markdown",
   "metadata": {},
   "source": [
    "Подготовим матрицу фичей $X$. Переведем ее из словаря и добавим несколько фичей."
   ]
  },
  {
   "cell_type": "code",
   "execution_count": 161,
   "metadata": {
    "collapsed": false
   },
   "outputs": [],
   "source": [
    "X = pd.DataFrame.from_dict(result)"
   ]
  },
  {
   "cell_type": "code",
   "execution_count": 162,
   "metadata": {
    "collapsed": false
   },
   "outputs": [
    {
     "data": {
      "text/plain": [
       "(907, 12)"
      ]
     },
     "execution_count": 162,
     "metadata": {},
     "output_type": "execute_result"
    }
   ],
   "source": [
    "X.shape"
   ]
  },
  {
   "cell_type": "code",
   "execution_count": 139,
   "metadata": {
    "collapsed": false
   },
   "outputs": [
    {
     "data": {
      "text/plain": [
       "['KLFutrePastBeta',\n",
       " 'KLPastFutureBeta',\n",
       " 'LogOdssBeta',\n",
       " 'beta_mu_max',\n",
       " 'beta_mu_med',\n",
       " 'beta_mu_min',\n",
       " 'diff',\n",
       " 'lambda_mu',\n",
       " 'lambda_sigma',\n",
       " 'mean_pr_y',\n",
       " 'mode_pr_y',\n",
       " 'p_value_beta']"
      ]
     },
     "execution_count": 139,
     "metadata": {},
     "output_type": "execute_result"
    }
   ],
   "source": [
    "[i for i in X.columns]"
   ]
  },
  {
   "cell_type": "markdown",
   "metadata": {},
   "source": [
    "Разобьем на трейн и тест в зависимости от распределения числа аномально сильных землетрясений во времени:"
   ]
  },
  {
   "cell_type": "code",
   "execution_count": 140,
   "metadata": {
    "collapsed": false
   },
   "outputs": [],
   "source": [
    "def AnomalyTimeInCell(x, y, max_time, max_m):\n",
    "    t = np.array([False if xyt_matrix_test[x, y, i] is None\\\n",
    "                  else xyt_matrix_test[x, y, i]['magnitude'].max() >= max_m for i in range(max_time)])\n",
    "    return np.where(t == True), t"
   ]
  },
  {
   "cell_type": "code",
   "execution_count": 142,
   "metadata": {
    "collapsed": false
   },
   "outputs": [
    {
     "data": {
      "text/plain": [
       "((array([  8,  13,  19, 122, 126, 239, 348, 364, 412, 443, 452, 453, 458,\n",
       "         460, 461, 466, 471, 474, 493, 494, 495, 497, 499, 524, 588, 862]),),\n",
       " array([False, False, False, False, False, False, False, False,  True,\n",
       "        False, False, False, False,  True, False, False, False, False,\n",
       "        False,  True, False, False, False, False, False, False, False,\n",
       "        False, False, False, False, False, False, False, False, False,\n",
       "        False, False, False, False, False, False, False, False, False,\n",
       "        False, False, False, False, False, False, False, False, False,\n",
       "        False, False, False, False, False, False, False, False, False,\n",
       "        False, False, False, False, False, False, False, False, False,\n",
       "        False, False, False, False, False, False, False, False, False,\n",
       "        False, False, False, False, False, False, False, False, False,\n",
       "        False, False, False, False, False, False, False, False, False,\n",
       "        False, False, False, False, False, False, False, False, False,\n",
       "        False, False, False, False, False, False, False, False, False,\n",
       "        False, False, False, False, False,  True, False, False, False,\n",
       "         True, False, False, False, False, False, False, False, False,\n",
       "        False, False, False, False, False, False, False, False, False,\n",
       "        False, False, False, False, False, False, False, False, False,\n",
       "        False, False, False, False, False, False, False, False, False,\n",
       "        False, False, False, False, False, False, False, False, False,\n",
       "        False, False, False, False, False, False, False, False, False,\n",
       "        False, False, False, False, False, False, False, False, False,\n",
       "        False, False, False, False, False, False, False, False, False,\n",
       "        False, False, False, False, False, False, False, False, False,\n",
       "        False, False, False, False, False, False, False, False, False,\n",
       "        False, False, False, False, False, False, False, False, False,\n",
       "        False, False, False, False, False, False, False, False, False,\n",
       "        False, False, False, False, False,  True, False, False, False,\n",
       "        False, False, False, False, False, False, False, False, False,\n",
       "        False, False, False, False, False, False, False, False, False,\n",
       "        False, False, False, False, False, False, False, False, False,\n",
       "        False, False, False, False, False, False, False, False, False,\n",
       "        False, False, False, False, False, False, False, False, False,\n",
       "        False, False, False, False, False, False, False, False, False,\n",
       "        False, False, False, False, False, False, False, False, False,\n",
       "        False, False, False, False, False, False, False, False, False,\n",
       "        False, False, False, False, False, False, False, False, False,\n",
       "        False, False, False, False, False, False, False, False, False,\n",
       "        False, False, False, False, False, False, False, False, False,\n",
       "        False, False, False, False, False, False,  True, False, False,\n",
       "        False, False, False, False, False, False, False, False, False,\n",
       "        False, False, False, False,  True, False, False, False, False,\n",
       "        False, False, False, False, False, False, False, False, False,\n",
       "        False, False, False, False, False, False, False, False, False,\n",
       "        False, False, False, False, False, False, False, False, False,\n",
       "        False, False, False, False, False, False, False, False, False,\n",
       "        False, False, False, False, False, False, False,  True, False,\n",
       "        False, False, False, False, False, False, False, False, False,\n",
       "        False, False, False, False, False, False, False, False, False,\n",
       "        False, False, False, False, False, False, False, False, False,\n",
       "        False, False,  True, False, False, False, False, False, False,\n",
       "        False, False,  True,  True, False, False, False, False,  True,\n",
       "        False,  True,  True, False, False, False, False,  True, False,\n",
       "        False, False, False,  True, False, False,  True, False, False,\n",
       "        False, False, False, False, False, False, False, False, False,\n",
       "        False, False, False, False, False, False, False,  True,  True,\n",
       "         True, False,  True, False,  True, False, False, False, False,\n",
       "        False, False, False, False, False, False, False, False, False,\n",
       "        False, False, False, False, False, False, False, False, False,\n",
       "        False, False,  True, False, False, False, False, False, False,\n",
       "        False, False, False, False, False, False, False, False, False,\n",
       "        False, False, False, False, False, False, False, False, False,\n",
       "        False, False, False, False, False, False, False, False, False,\n",
       "        False, False, False, False, False, False, False, False, False,\n",
       "        False, False, False, False, False, False, False, False, False,\n",
       "        False, False, False, False, False, False, False, False, False,\n",
       "        False, False, False,  True, False, False, False, False, False,\n",
       "        False, False, False, False, False, False, False, False, False,\n",
       "        False, False, False, False, False, False, False, False, False,\n",
       "        False, False, False, False, False, False, False, False, False,\n",
       "        False, False, False, False, False, False, False, False, False,\n",
       "        False, False, False, False, False, False, False, False, False,\n",
       "        False, False, False, False, False, False, False, False, False,\n",
       "        False, False, False, False, False, False, False, False, False,\n",
       "        False, False, False, False, False, False, False, False, False,\n",
       "        False, False, False, False, False, False, False, False, False,\n",
       "        False, False, False, False, False, False, False, False, False,\n",
       "        False, False, False, False, False, False, False, False, False,\n",
       "        False, False, False, False, False, False, False, False, False,\n",
       "        False, False, False, False, False, False, False, False, False,\n",
       "        False, False, False, False, False, False, False, False, False,\n",
       "        False, False, False, False, False, False, False, False, False,\n",
       "        False, False, False, False, False, False, False, False, False,\n",
       "        False, False, False, False, False, False, False, False, False,\n",
       "        False, False, False, False, False, False, False, False, False,\n",
       "        False, False, False, False, False, False, False, False, False,\n",
       "        False, False, False, False, False, False, False, False, False,\n",
       "        False, False, False, False, False, False, False, False, False,\n",
       "        False, False, False, False, False, False, False, False, False,\n",
       "        False, False, False, False, False, False, False, False, False,\n",
       "        False, False, False, False, False, False, False, False, False,\n",
       "        False, False, False, False, False, False, False, False, False,\n",
       "        False, False, False, False, False, False, False, False, False,\n",
       "        False, False, False, False, False, False, False, False, False,\n",
       "        False, False, False, False, False, False, False, False, False,\n",
       "        False, False, False, False, False, False, False, False, False,\n",
       "        False, False, False, False, False, False, False,  True, False,\n",
       "        False, False, False, False, False, False, False, False, False,\n",
       "        False, False, False, False, False, False, False, False, False,\n",
       "        False, False, False, False, False, False, False, False, False,\n",
       "        False, False, False, False, False, False, False, False, False,\n",
       "        False, False, False, False, False, False, False], dtype=bool))"
      ]
     },
     "execution_count": 142,
     "metadata": {},
     "output_type": "execute_result"
    }
   ],
   "source": [
    "AnomalyTimeInCell(6, 10, 907, 5.5)"
   ]
  },
  {
   "cell_type": "code",
   "execution_count": 163,
   "metadata": {
    "collapsed": false
   },
   "outputs": [],
   "source": [
    "X_train = pd.DataFrame(X.values[:500, :].copy())\n",
    "X_test = pd.DataFrame(X.values[500:, :].copy())"
   ]
  },
  {
   "cell_type": "code",
   "execution_count": 164,
   "metadata": {
    "collapsed": false
   },
   "outputs": [
    {
     "data": {
      "text/plain": [
       "(907, 12)"
      ]
     },
     "execution_count": 164,
     "metadata": {},
     "output_type": "execute_result"
    }
   ],
   "source": [
    "X.shape"
   ]
  },
  {
   "cell_type": "code",
   "execution_count": 145,
   "metadata": {
    "collapsed": false
   },
   "outputs": [],
   "source": [
    "y = np.array([False] * X.shape[0])\n",
    "y[AnomalyTimeInCell(6, 10, 907, 5.5)[0]] = True\n",
    "y_train = y[:500]\n",
    "y_test = y[500:]"
   ]
  },
  {
   "cell_type": "markdown",
   "metadata": {},
   "source": [
    "Возьмем аномалии до $100$ в трейн, остальные в тест. Бинаризуем матрицу. Для этого посчитаем 2.5% и 97.5% квантили по X_train. Все, что в не их назовем аномалиями и отметим $1$, остальное $0$."
   ]
  },
  {
   "cell_type": "code",
   "execution_count": 146,
   "metadata": {
    "collapsed": false
   },
   "outputs": [],
   "source": [
    "for i in X_train.columns:\n",
    "    min_q = np.sort(X_train[i])[int(X_train[i].shape[0] * 0.01)]\n",
    "    max_q = np.sort(X_train[i])[int(X_train[i].shape[0] * 0.99)]\n",
    " \n",
    "    X_train.loc[(X_train[i] >= max_q) | (X_train[i] <= min_q), i] = True\n",
    "    X_train.loc[(X_train[i] < max_q) & (X_train[i] > min_q), i] = False\n",
    "    \n",
    "    X_test.loc[(X_test[i] >= max_q) | (X_test[i] <= min_q), i] = True\n",
    "    X_test.loc[(X_test[i] < max_q) & (X_test[i] > min_q), i] = False"
   ]
  },
  {
   "cell_type": "code",
   "execution_count": 147,
   "metadata": {
    "collapsed": false
   },
   "outputs": [],
   "source": [
    "import sklearn as sk\n",
    "from joblib import Parallel, delayed\n",
    "parallel_ = Parallel(n_jobs=-1, verbose=0)\n",
    "from predictiveSelector import predictiveSelector as ps"
   ]
  },
  {
   "cell_type": "markdown",
   "metadata": {},
   "source": [
    "Установим параметры, при которых мы считаем предупреждение о землетрясении успешным:\n",
    "+ horizon: 1, т.е за 48 дней (или одну ячейку) от землетрясения\n",
    "+ window: 1, т.е. 48 дней\n",
    "+ insense: 0"
   ]
  },
  {
   "cell_type": "code",
   "execution_count": 152,
   "metadata": {
    "collapsed": false
   },
   "outputs": [],
   "source": [
    "horizon, window, insens = 0, 20, 0"
   ]
  },
  {
   "cell_type": "code",
   "execution_count": 153,
   "metadata": {
    "collapsed": false
   },
   "outputs": [],
   "source": [
    "selector = ps.predictiveSelector(10, ps.reducer_all_true, window=window, pre=horizon, post=insens, verbose=1)"
   ]
  },
  {
   "cell_type": "markdown",
   "metadata": {},
   "source": [
    "Установим способы отбора фичей:"
   ]
  },
  {
   "cell_type": "code",
   "execution_count": 155,
   "metadata": {
    "collapsed": false
   },
   "outputs": [
    {
     "data": {
      "text/plain": [
       "(5000, 12)"
      ]
     },
     "execution_count": 155,
     "metadata": {},
     "output_type": "execute_result"
    }
   ],
   "source": [
    "X_train.shape"
   ]
  },
  {
   "cell_type": "code",
   "execution_count": 156,
   "metadata": {
    "collapsed": false
   },
   "outputs": [
    {
     "data": {
      "text/plain": [
       "(907, 12)"
      ]
     },
     "execution_count": 156,
     "metadata": {},
     "output_type": "execute_result"
    }
   ],
   "source": [
    "X.shape"
   ]
  },
  {
   "cell_type": "code",
   "execution_count": 154,
   "metadata": {
    "collapsed": false
   },
   "outputs": [],
   "source": [
    "selection_strategy = {'mode':[\"ttest\", \"soft\"], 'alpha':0.05, 'soft_threshold':5.0}"
   ]
  },
  {
   "cell_type": "code",
   "execution_count": 165,
   "metadata": {
    "collapsed": false
   },
   "outputs": [],
   "source": [
    "selector_ = sk.clone(selector).fit(X_train, pd.DataFrame(y_train), batch=(100, 100), instance=parallel_)"
   ]
  },
  {
   "cell_type": "code",
   "execution_count": 166,
   "metadata": {
    "collapsed": false
   },
   "outputs": [
    {
     "data": {
      "text/plain": [
       "<class 'pandas.core.panel.Panel'>\n",
       "Dimensions: 1 (items) x 4082 (major_axis) x 7 (minor_axis)\n",
       "Items axis: 0 to 0\n",
       "Major_axis axis: (0,) to (11,)\n",
       "Minor_axis axis: NEG_SUM to SIGNALS"
      ]
     },
     "execution_count": 166,
     "metadata": {},
     "output_type": "execute_result"
    }
   ],
   "source": [
    "selector_.score_#.loc[0]"
   ]
  },
  {
   "cell_type": "code",
   "execution_count": 167,
   "metadata": {
    "collapsed": false
   },
   "outputs": [],
   "source": [
    "predictive_X = selector_.transform(X_test, **selection_strategy)\n",
    "selected_features_ = {key_: df_.columns.tolist() for key_, df_ in predictive_X.iteritems()}"
   ]
  },
  {
   "cell_type": "code",
   "execution_count": 168,
   "metadata": {
    "collapsed": false
   },
   "outputs": [],
   "source": [
    "df_ = selector_.metrics_.loc[0]"
   ]
  },
  {
   "cell_type": "code",
   "execution_count": 169,
   "metadata": {
    "collapsed": false
   },
   "outputs": [
    {
     "data": {
      "text/html": [
       "<div>\n",
       "<table border=\"1\" class=\"dataframe\">\n",
       "  <thead>\n",
       "    <tr style=\"text-align: right;\">\n",
       "      <th></th>\n",
       "      <th>POS_RATIO</th>\n",
       "      <th>NEG_RATIO</th>\n",
       "      <th>FA/CF</th>\n",
       "      <th>PV</th>\n",
       "    </tr>\n",
       "  </thead>\n",
       "  <tbody>\n",
       "  </tbody>\n",
       "</table>\n",
       "</div>"
      ],
      "text/plain": [
       "Empty DataFrame\n",
       "Columns: [POS_RATIO, NEG_RATIO, FA/CF, PV]\n",
       "Index: []"
      ]
     },
     "execution_count": 169,
     "metadata": {},
     "output_type": "execute_result"
    }
   ],
   "source": [
    "df_.loc[df_.PV < 0.5]"
   ]
  },
  {
   "cell_type": "code",
   "execution_count": 170,
   "metadata": {
    "collapsed": false
   },
   "outputs": [
    {
     "data": {
      "text/html": [
       "<div>\n",
       "<table border=\"1\" class=\"dataframe\">\n",
       "  <thead>\n",
       "    <tr style=\"text-align: right;\">\n",
       "      <th></th>\n",
       "      <th>POS_RATIO</th>\n",
       "      <th>NEG_RATIO</th>\n",
       "      <th>FA/CF</th>\n",
       "      <th>PV</th>\n",
       "    </tr>\n",
       "  </thead>\n",
       "  <tbody>\n",
       "  </tbody>\n",
       "</table>\n",
       "</div>"
      ],
      "text/plain": [
       "Empty DataFrame\n",
       "Columns: [POS_RATIO, NEG_RATIO, FA/CF, PV]\n",
       "Index: []"
      ]
     },
     "execution_count": 170,
     "metadata": {},
     "output_type": "execute_result"
    }
   ],
   "source": [
    "df_.loc[df_[\"FA/CF\"] < 5]"
   ]
  },
  {
   "cell_type": "code",
   "execution_count": 112,
   "metadata": {
    "collapsed": false
   },
   "outputs": [
    {
     "data": {
      "text/html": [
       "<div>\n",
       "<table border=\"1\" class=\"dataframe\">\n",
       "  <thead>\n",
       "    <tr style=\"text-align: right;\">\n",
       "      <th></th>\n",
       "      <th>NEG_SUM</th>\n",
       "      <th>NEG_OR</th>\n",
       "      <th>NEG_TOT</th>\n",
       "      <th>POS_SUM</th>\n",
       "      <th>POS_OR</th>\n",
       "      <th>POS_TOT</th>\n",
       "      <th>SIGNALS</th>\n",
       "    </tr>\n",
       "  </thead>\n",
       "  <tbody>\n",
       "    <tr>\n",
       "      <th>(0, 1, 2, 3, 4, 5, 6, 7, 8)</th>\n",
       "      <td>55</td>\n",
       "      <td>8</td>\n",
       "      <td>15</td>\n",
       "      <td>23</td>\n",
       "      <td>10</td>\n",
       "      <td>15</td>\n",
       "      <td>15</td>\n",
       "    </tr>\n",
       "    <tr>\n",
       "      <th>(0, 1, 2, 3, 4, 5, 6, 7, 8, 9)</th>\n",
       "      <td>55</td>\n",
       "      <td>8</td>\n",
       "      <td>15</td>\n",
       "      <td>23</td>\n",
       "      <td>10</td>\n",
       "      <td>15</td>\n",
       "      <td>15</td>\n",
       "    </tr>\n",
       "    <tr>\n",
       "      <th>(0, 1, 2, 3, 4, 5, 6, 7, 8, 10)</th>\n",
       "      <td>55</td>\n",
       "      <td>8</td>\n",
       "      <td>15</td>\n",
       "      <td>23</td>\n",
       "      <td>10</td>\n",
       "      <td>15</td>\n",
       "      <td>15</td>\n",
       "    </tr>\n",
       "    <tr>\n",
       "      <th>(0, 1, 2, 3, 4, 5, 6, 7, 8, 11)</th>\n",
       "      <td>55</td>\n",
       "      <td>8</td>\n",
       "      <td>15</td>\n",
       "      <td>23</td>\n",
       "      <td>10</td>\n",
       "      <td>15</td>\n",
       "      <td>15</td>\n",
       "    </tr>\n",
       "    <tr>\n",
       "      <th>(0, 1, 2, 3, 4, 5, 6, 8)</th>\n",
       "      <td>55</td>\n",
       "      <td>8</td>\n",
       "      <td>15</td>\n",
       "      <td>23</td>\n",
       "      <td>10</td>\n",
       "      <td>15</td>\n",
       "      <td>15</td>\n",
       "    </tr>\n",
       "    <tr>\n",
       "      <th>(0, 1, 2, 3, 4, 5, 6, 8, 9)</th>\n",
       "      <td>55</td>\n",
       "      <td>8</td>\n",
       "      <td>15</td>\n",
       "      <td>23</td>\n",
       "      <td>10</td>\n",
       "      <td>15</td>\n",
       "      <td>15</td>\n",
       "    </tr>\n",
       "    <tr>\n",
       "      <th>(0, 1, 2, 3, 4, 5, 6, 8, 9, 10)</th>\n",
       "      <td>55</td>\n",
       "      <td>8</td>\n",
       "      <td>15</td>\n",
       "      <td>23</td>\n",
       "      <td>10</td>\n",
       "      <td>15</td>\n",
       "      <td>15</td>\n",
       "    </tr>\n",
       "    <tr>\n",
       "      <th>(0, 1, 2, 3, 4, 5, 6, 8, 9, 11)</th>\n",
       "      <td>55</td>\n",
       "      <td>8</td>\n",
       "      <td>15</td>\n",
       "      <td>23</td>\n",
       "      <td>10</td>\n",
       "      <td>15</td>\n",
       "      <td>15</td>\n",
       "    </tr>\n",
       "    <tr>\n",
       "      <th>(0, 1, 2, 3, 4, 5, 6, 8, 10)</th>\n",
       "      <td>55</td>\n",
       "      <td>8</td>\n",
       "      <td>15</td>\n",
       "      <td>23</td>\n",
       "      <td>10</td>\n",
       "      <td>15</td>\n",
       "      <td>15</td>\n",
       "    </tr>\n",
       "    <tr>\n",
       "      <th>(0, 1, 2, 3, 4, 5, 6, 8, 10, 11)</th>\n",
       "      <td>55</td>\n",
       "      <td>8</td>\n",
       "      <td>15</td>\n",
       "      <td>23</td>\n",
       "      <td>10</td>\n",
       "      <td>15</td>\n",
       "      <td>15</td>\n",
       "    </tr>\n",
       "    <tr>\n",
       "      <th>(0, 1, 2, 3, 4, 5, 6, 8, 11)</th>\n",
       "      <td>55</td>\n",
       "      <td>8</td>\n",
       "      <td>15</td>\n",
       "      <td>23</td>\n",
       "      <td>10</td>\n",
       "      <td>15</td>\n",
       "      <td>15</td>\n",
       "    </tr>\n",
       "    <tr>\n",
       "      <th>(0, 1, 2, 3, 4, 5, 7, 8)</th>\n",
       "      <td>55</td>\n",
       "      <td>8</td>\n",
       "      <td>15</td>\n",
       "      <td>23</td>\n",
       "      <td>10</td>\n",
       "      <td>15</td>\n",
       "      <td>15</td>\n",
       "    </tr>\n",
       "    <tr>\n",
       "      <th>(0, 1, 2, 3, 4, 5, 7, 8, 9)</th>\n",
       "      <td>55</td>\n",
       "      <td>8</td>\n",
       "      <td>15</td>\n",
       "      <td>23</td>\n",
       "      <td>10</td>\n",
       "      <td>15</td>\n",
       "      <td>15</td>\n",
       "    </tr>\n",
       "    <tr>\n",
       "      <th>(0, 1, 2, 3, 4, 5, 7, 8, 9, 10)</th>\n",
       "      <td>55</td>\n",
       "      <td>8</td>\n",
       "      <td>15</td>\n",
       "      <td>23</td>\n",
       "      <td>10</td>\n",
       "      <td>15</td>\n",
       "      <td>15</td>\n",
       "    </tr>\n",
       "    <tr>\n",
       "      <th>(0, 1, 2, 3, 4, 5, 7, 8, 9, 11)</th>\n",
       "      <td>55</td>\n",
       "      <td>8</td>\n",
       "      <td>15</td>\n",
       "      <td>23</td>\n",
       "      <td>10</td>\n",
       "      <td>15</td>\n",
       "      <td>15</td>\n",
       "    </tr>\n",
       "    <tr>\n",
       "      <th>(0, 1, 2, 3, 4, 5, 7, 8, 10)</th>\n",
       "      <td>55</td>\n",
       "      <td>8</td>\n",
       "      <td>15</td>\n",
       "      <td>23</td>\n",
       "      <td>10</td>\n",
       "      <td>15</td>\n",
       "      <td>15</td>\n",
       "    </tr>\n",
       "    <tr>\n",
       "      <th>(0, 1, 2, 3, 4, 5, 7, 8, 10, 11)</th>\n",
       "      <td>55</td>\n",
       "      <td>8</td>\n",
       "      <td>15</td>\n",
       "      <td>23</td>\n",
       "      <td>10</td>\n",
       "      <td>15</td>\n",
       "      <td>15</td>\n",
       "    </tr>\n",
       "    <tr>\n",
       "      <th>(0, 1, 2, 3, 4, 5, 7, 8, 11)</th>\n",
       "      <td>55</td>\n",
       "      <td>8</td>\n",
       "      <td>15</td>\n",
       "      <td>23</td>\n",
       "      <td>10</td>\n",
       "      <td>15</td>\n",
       "      <td>15</td>\n",
       "    </tr>\n",
       "    <tr>\n",
       "      <th>(0, 1, 2, 3, 4, 5, 8)</th>\n",
       "      <td>55</td>\n",
       "      <td>8</td>\n",
       "      <td>15</td>\n",
       "      <td>23</td>\n",
       "      <td>10</td>\n",
       "      <td>15</td>\n",
       "      <td>15</td>\n",
       "    </tr>\n",
       "    <tr>\n",
       "      <th>(0, 1, 2, 3, 4, 5, 8, 9)</th>\n",
       "      <td>55</td>\n",
       "      <td>8</td>\n",
       "      <td>15</td>\n",
       "      <td>23</td>\n",
       "      <td>10</td>\n",
       "      <td>15</td>\n",
       "      <td>15</td>\n",
       "    </tr>\n",
       "    <tr>\n",
       "      <th>(0, 1, 2, 3, 4, 5, 8, 9, 10)</th>\n",
       "      <td>55</td>\n",
       "      <td>8</td>\n",
       "      <td>15</td>\n",
       "      <td>23</td>\n",
       "      <td>10</td>\n",
       "      <td>15</td>\n",
       "      <td>15</td>\n",
       "    </tr>\n",
       "    <tr>\n",
       "      <th>(0, 1, 2, 3, 4, 5, 8, 9, 10, 11)</th>\n",
       "      <td>55</td>\n",
       "      <td>8</td>\n",
       "      <td>15</td>\n",
       "      <td>23</td>\n",
       "      <td>10</td>\n",
       "      <td>15</td>\n",
       "      <td>15</td>\n",
       "    </tr>\n",
       "    <tr>\n",
       "      <th>(0, 1, 2, 3, 4, 5, 8, 9, 11)</th>\n",
       "      <td>55</td>\n",
       "      <td>8</td>\n",
       "      <td>15</td>\n",
       "      <td>23</td>\n",
       "      <td>10</td>\n",
       "      <td>15</td>\n",
       "      <td>15</td>\n",
       "    </tr>\n",
       "    <tr>\n",
       "      <th>(0, 1, 2, 3, 4, 5, 8, 10)</th>\n",
       "      <td>55</td>\n",
       "      <td>8</td>\n",
       "      <td>15</td>\n",
       "      <td>23</td>\n",
       "      <td>10</td>\n",
       "      <td>15</td>\n",
       "      <td>15</td>\n",
       "    </tr>\n",
       "    <tr>\n",
       "      <th>(0, 1, 2, 3, 4, 5, 8, 10, 11)</th>\n",
       "      <td>55</td>\n",
       "      <td>8</td>\n",
       "      <td>15</td>\n",
       "      <td>23</td>\n",
       "      <td>10</td>\n",
       "      <td>15</td>\n",
       "      <td>15</td>\n",
       "    </tr>\n",
       "    <tr>\n",
       "      <th>(0, 1, 2, 3, 4, 5, 8, 11)</th>\n",
       "      <td>55</td>\n",
       "      <td>8</td>\n",
       "      <td>15</td>\n",
       "      <td>23</td>\n",
       "      <td>10</td>\n",
       "      <td>15</td>\n",
       "      <td>15</td>\n",
       "    </tr>\n",
       "    <tr>\n",
       "      <th>(0, 1, 2, 3, 4, 6, 7, 8)</th>\n",
       "      <td>55</td>\n",
       "      <td>8</td>\n",
       "      <td>15</td>\n",
       "      <td>23</td>\n",
       "      <td>10</td>\n",
       "      <td>15</td>\n",
       "      <td>15</td>\n",
       "    </tr>\n",
       "    <tr>\n",
       "      <th>(0, 1, 2, 3, 4, 6, 7, 8, 9)</th>\n",
       "      <td>55</td>\n",
       "      <td>8</td>\n",
       "      <td>15</td>\n",
       "      <td>23</td>\n",
       "      <td>10</td>\n",
       "      <td>15</td>\n",
       "      <td>15</td>\n",
       "    </tr>\n",
       "    <tr>\n",
       "      <th>(0, 1, 2, 3, 4, 6, 7, 8, 9, 10)</th>\n",
       "      <td>55</td>\n",
       "      <td>8</td>\n",
       "      <td>15</td>\n",
       "      <td>23</td>\n",
       "      <td>10</td>\n",
       "      <td>15</td>\n",
       "      <td>15</td>\n",
       "    </tr>\n",
       "    <tr>\n",
       "      <th>(0, 1, 2, 3, 4, 6, 7, 8, 9, 11)</th>\n",
       "      <td>55</td>\n",
       "      <td>8</td>\n",
       "      <td>15</td>\n",
       "      <td>23</td>\n",
       "      <td>10</td>\n",
       "      <td>15</td>\n",
       "      <td>15</td>\n",
       "    </tr>\n",
       "    <tr>\n",
       "      <th>...</th>\n",
       "      <td>...</td>\n",
       "      <td>...</td>\n",
       "      <td>...</td>\n",
       "      <td>...</td>\n",
       "      <td>...</td>\n",
       "      <td>...</td>\n",
       "      <td>...</td>\n",
       "    </tr>\n",
       "    <tr>\n",
       "      <th>(6, 7, 8, 9, 10)</th>\n",
       "      <td>55</td>\n",
       "      <td>8</td>\n",
       "      <td>15</td>\n",
       "      <td>23</td>\n",
       "      <td>10</td>\n",
       "      <td>15</td>\n",
       "      <td>15</td>\n",
       "    </tr>\n",
       "    <tr>\n",
       "      <th>(6, 7, 8, 9, 10, 11)</th>\n",
       "      <td>55</td>\n",
       "      <td>8</td>\n",
       "      <td>15</td>\n",
       "      <td>23</td>\n",
       "      <td>10</td>\n",
       "      <td>15</td>\n",
       "      <td>15</td>\n",
       "    </tr>\n",
       "    <tr>\n",
       "      <th>(6, 7, 8, 9, 11)</th>\n",
       "      <td>55</td>\n",
       "      <td>8</td>\n",
       "      <td>15</td>\n",
       "      <td>23</td>\n",
       "      <td>10</td>\n",
       "      <td>15</td>\n",
       "      <td>15</td>\n",
       "    </tr>\n",
       "    <tr>\n",
       "      <th>(6, 7, 8, 10)</th>\n",
       "      <td>55</td>\n",
       "      <td>8</td>\n",
       "      <td>15</td>\n",
       "      <td>23</td>\n",
       "      <td>10</td>\n",
       "      <td>15</td>\n",
       "      <td>15</td>\n",
       "    </tr>\n",
       "    <tr>\n",
       "      <th>(6, 7, 8, 10, 11)</th>\n",
       "      <td>55</td>\n",
       "      <td>8</td>\n",
       "      <td>15</td>\n",
       "      <td>23</td>\n",
       "      <td>10</td>\n",
       "      <td>15</td>\n",
       "      <td>15</td>\n",
       "    </tr>\n",
       "    <tr>\n",
       "      <th>(6, 7, 8, 11)</th>\n",
       "      <td>55</td>\n",
       "      <td>8</td>\n",
       "      <td>15</td>\n",
       "      <td>23</td>\n",
       "      <td>10</td>\n",
       "      <td>15</td>\n",
       "      <td>15</td>\n",
       "    </tr>\n",
       "    <tr>\n",
       "      <th>(6, 8)</th>\n",
       "      <td>55</td>\n",
       "      <td>8</td>\n",
       "      <td>15</td>\n",
       "      <td>23</td>\n",
       "      <td>10</td>\n",
       "      <td>15</td>\n",
       "      <td>15</td>\n",
       "    </tr>\n",
       "    <tr>\n",
       "      <th>(6, 8, 9)</th>\n",
       "      <td>55</td>\n",
       "      <td>8</td>\n",
       "      <td>15</td>\n",
       "      <td>23</td>\n",
       "      <td>10</td>\n",
       "      <td>15</td>\n",
       "      <td>15</td>\n",
       "    </tr>\n",
       "    <tr>\n",
       "      <th>(6, 8, 9, 10)</th>\n",
       "      <td>55</td>\n",
       "      <td>8</td>\n",
       "      <td>15</td>\n",
       "      <td>23</td>\n",
       "      <td>10</td>\n",
       "      <td>15</td>\n",
       "      <td>15</td>\n",
       "    </tr>\n",
       "    <tr>\n",
       "      <th>(6, 8, 9, 10, 11)</th>\n",
       "      <td>55</td>\n",
       "      <td>8</td>\n",
       "      <td>15</td>\n",
       "      <td>23</td>\n",
       "      <td>10</td>\n",
       "      <td>15</td>\n",
       "      <td>15</td>\n",
       "    </tr>\n",
       "    <tr>\n",
       "      <th>(6, 8, 9, 11)</th>\n",
       "      <td>55</td>\n",
       "      <td>8</td>\n",
       "      <td>15</td>\n",
       "      <td>23</td>\n",
       "      <td>10</td>\n",
       "      <td>15</td>\n",
       "      <td>15</td>\n",
       "    </tr>\n",
       "    <tr>\n",
       "      <th>(6, 8, 10)</th>\n",
       "      <td>55</td>\n",
       "      <td>8</td>\n",
       "      <td>15</td>\n",
       "      <td>23</td>\n",
       "      <td>10</td>\n",
       "      <td>15</td>\n",
       "      <td>15</td>\n",
       "    </tr>\n",
       "    <tr>\n",
       "      <th>(6, 8, 10, 11)</th>\n",
       "      <td>55</td>\n",
       "      <td>8</td>\n",
       "      <td>15</td>\n",
       "      <td>23</td>\n",
       "      <td>10</td>\n",
       "      <td>15</td>\n",
       "      <td>15</td>\n",
       "    </tr>\n",
       "    <tr>\n",
       "      <th>(6, 8, 11)</th>\n",
       "      <td>55</td>\n",
       "      <td>8</td>\n",
       "      <td>15</td>\n",
       "      <td>23</td>\n",
       "      <td>10</td>\n",
       "      <td>15</td>\n",
       "      <td>15</td>\n",
       "    </tr>\n",
       "    <tr>\n",
       "      <th>(7, 8)</th>\n",
       "      <td>55</td>\n",
       "      <td>8</td>\n",
       "      <td>15</td>\n",
       "      <td>23</td>\n",
       "      <td>10</td>\n",
       "      <td>15</td>\n",
       "      <td>15</td>\n",
       "    </tr>\n",
       "    <tr>\n",
       "      <th>(7, 8, 9)</th>\n",
       "      <td>55</td>\n",
       "      <td>8</td>\n",
       "      <td>15</td>\n",
       "      <td>23</td>\n",
       "      <td>10</td>\n",
       "      <td>15</td>\n",
       "      <td>15</td>\n",
       "    </tr>\n",
       "    <tr>\n",
       "      <th>(7, 8, 9, 10)</th>\n",
       "      <td>55</td>\n",
       "      <td>8</td>\n",
       "      <td>15</td>\n",
       "      <td>23</td>\n",
       "      <td>10</td>\n",
       "      <td>15</td>\n",
       "      <td>15</td>\n",
       "    </tr>\n",
       "    <tr>\n",
       "      <th>(7, 8, 9, 10, 11)</th>\n",
       "      <td>55</td>\n",
       "      <td>8</td>\n",
       "      <td>15</td>\n",
       "      <td>23</td>\n",
       "      <td>10</td>\n",
       "      <td>15</td>\n",
       "      <td>15</td>\n",
       "    </tr>\n",
       "    <tr>\n",
       "      <th>(7, 8, 9, 11)</th>\n",
       "      <td>55</td>\n",
       "      <td>8</td>\n",
       "      <td>15</td>\n",
       "      <td>23</td>\n",
       "      <td>10</td>\n",
       "      <td>15</td>\n",
       "      <td>15</td>\n",
       "    </tr>\n",
       "    <tr>\n",
       "      <th>(7, 8, 10)</th>\n",
       "      <td>55</td>\n",
       "      <td>8</td>\n",
       "      <td>15</td>\n",
       "      <td>23</td>\n",
       "      <td>10</td>\n",
       "      <td>15</td>\n",
       "      <td>15</td>\n",
       "    </tr>\n",
       "    <tr>\n",
       "      <th>(7, 8, 10, 11)</th>\n",
       "      <td>55</td>\n",
       "      <td>8</td>\n",
       "      <td>15</td>\n",
       "      <td>23</td>\n",
       "      <td>10</td>\n",
       "      <td>15</td>\n",
       "      <td>15</td>\n",
       "    </tr>\n",
       "    <tr>\n",
       "      <th>(7, 8, 11)</th>\n",
       "      <td>55</td>\n",
       "      <td>8</td>\n",
       "      <td>15</td>\n",
       "      <td>23</td>\n",
       "      <td>10</td>\n",
       "      <td>15</td>\n",
       "      <td>15</td>\n",
       "    </tr>\n",
       "    <tr>\n",
       "      <th>(8,)</th>\n",
       "      <td>55</td>\n",
       "      <td>8</td>\n",
       "      <td>15</td>\n",
       "      <td>23</td>\n",
       "      <td>10</td>\n",
       "      <td>15</td>\n",
       "      <td>15</td>\n",
       "    </tr>\n",
       "    <tr>\n",
       "      <th>(8, 9)</th>\n",
       "      <td>55</td>\n",
       "      <td>8</td>\n",
       "      <td>15</td>\n",
       "      <td>23</td>\n",
       "      <td>10</td>\n",
       "      <td>15</td>\n",
       "      <td>15</td>\n",
       "    </tr>\n",
       "    <tr>\n",
       "      <th>(8, 9, 10)</th>\n",
       "      <td>55</td>\n",
       "      <td>8</td>\n",
       "      <td>15</td>\n",
       "      <td>23</td>\n",
       "      <td>10</td>\n",
       "      <td>15</td>\n",
       "      <td>15</td>\n",
       "    </tr>\n",
       "    <tr>\n",
       "      <th>(8, 9, 10, 11)</th>\n",
       "      <td>55</td>\n",
       "      <td>8</td>\n",
       "      <td>15</td>\n",
       "      <td>23</td>\n",
       "      <td>10</td>\n",
       "      <td>15</td>\n",
       "      <td>15</td>\n",
       "    </tr>\n",
       "    <tr>\n",
       "      <th>(8, 9, 11)</th>\n",
       "      <td>55</td>\n",
       "      <td>8</td>\n",
       "      <td>15</td>\n",
       "      <td>23</td>\n",
       "      <td>10</td>\n",
       "      <td>15</td>\n",
       "      <td>15</td>\n",
       "    </tr>\n",
       "    <tr>\n",
       "      <th>(8, 10)</th>\n",
       "      <td>55</td>\n",
       "      <td>8</td>\n",
       "      <td>15</td>\n",
       "      <td>23</td>\n",
       "      <td>10</td>\n",
       "      <td>15</td>\n",
       "      <td>15</td>\n",
       "    </tr>\n",
       "    <tr>\n",
       "      <th>(8, 10, 11)</th>\n",
       "      <td>55</td>\n",
       "      <td>8</td>\n",
       "      <td>15</td>\n",
       "      <td>23</td>\n",
       "      <td>10</td>\n",
       "      <td>15</td>\n",
       "      <td>15</td>\n",
       "    </tr>\n",
       "    <tr>\n",
       "      <th>(8, 11)</th>\n",
       "      <td>55</td>\n",
       "      <td>8</td>\n",
       "      <td>15</td>\n",
       "      <td>23</td>\n",
       "      <td>10</td>\n",
       "      <td>15</td>\n",
       "      <td>15</td>\n",
       "    </tr>\n",
       "  </tbody>\n",
       "</table>\n",
       "<p>2036 rows × 7 columns</p>\n",
       "</div>"
      ],
      "text/plain": [
       "                                  NEG_SUM  NEG_OR  NEG_TOT  POS_SUM  POS_OR  \\\n",
       "(0, 1, 2, 3, 4, 5, 6, 7, 8)            55       8       15       23      10   \n",
       "(0, 1, 2, 3, 4, 5, 6, 7, 8, 9)         55       8       15       23      10   \n",
       "(0, 1, 2, 3, 4, 5, 6, 7, 8, 10)        55       8       15       23      10   \n",
       "(0, 1, 2, 3, 4, 5, 6, 7, 8, 11)        55       8       15       23      10   \n",
       "(0, 1, 2, 3, 4, 5, 6, 8)               55       8       15       23      10   \n",
       "(0, 1, 2, 3, 4, 5, 6, 8, 9)            55       8       15       23      10   \n",
       "(0, 1, 2, 3, 4, 5, 6, 8, 9, 10)        55       8       15       23      10   \n",
       "(0, 1, 2, 3, 4, 5, 6, 8, 9, 11)        55       8       15       23      10   \n",
       "(0, 1, 2, 3, 4, 5, 6, 8, 10)           55       8       15       23      10   \n",
       "(0, 1, 2, 3, 4, 5, 6, 8, 10, 11)       55       8       15       23      10   \n",
       "(0, 1, 2, 3, 4, 5, 6, 8, 11)           55       8       15       23      10   \n",
       "(0, 1, 2, 3, 4, 5, 7, 8)               55       8       15       23      10   \n",
       "(0, 1, 2, 3, 4, 5, 7, 8, 9)            55       8       15       23      10   \n",
       "(0, 1, 2, 3, 4, 5, 7, 8, 9, 10)        55       8       15       23      10   \n",
       "(0, 1, 2, 3, 4, 5, 7, 8, 9, 11)        55       8       15       23      10   \n",
       "(0, 1, 2, 3, 4, 5, 7, 8, 10)           55       8       15       23      10   \n",
       "(0, 1, 2, 3, 4, 5, 7, 8, 10, 11)       55       8       15       23      10   \n",
       "(0, 1, 2, 3, 4, 5, 7, 8, 11)           55       8       15       23      10   \n",
       "(0, 1, 2, 3, 4, 5, 8)                  55       8       15       23      10   \n",
       "(0, 1, 2, 3, 4, 5, 8, 9)               55       8       15       23      10   \n",
       "(0, 1, 2, 3, 4, 5, 8, 9, 10)           55       8       15       23      10   \n",
       "(0, 1, 2, 3, 4, 5, 8, 9, 10, 11)       55       8       15       23      10   \n",
       "(0, 1, 2, 3, 4, 5, 8, 9, 11)           55       8       15       23      10   \n",
       "(0, 1, 2, 3, 4, 5, 8, 10)              55       8       15       23      10   \n",
       "(0, 1, 2, 3, 4, 5, 8, 10, 11)          55       8       15       23      10   \n",
       "(0, 1, 2, 3, 4, 5, 8, 11)              55       8       15       23      10   \n",
       "(0, 1, 2, 3, 4, 6, 7, 8)               55       8       15       23      10   \n",
       "(0, 1, 2, 3, 4, 6, 7, 8, 9)            55       8       15       23      10   \n",
       "(0, 1, 2, 3, 4, 6, 7, 8, 9, 10)        55       8       15       23      10   \n",
       "(0, 1, 2, 3, 4, 6, 7, 8, 9, 11)        55       8       15       23      10   \n",
       "...                                   ...     ...      ...      ...     ...   \n",
       "(6, 7, 8, 9, 10)                       55       8       15       23      10   \n",
       "(6, 7, 8, 9, 10, 11)                   55       8       15       23      10   \n",
       "(6, 7, 8, 9, 11)                       55       8       15       23      10   \n",
       "(6, 7, 8, 10)                          55       8       15       23      10   \n",
       "(6, 7, 8, 10, 11)                      55       8       15       23      10   \n",
       "(6, 7, 8, 11)                          55       8       15       23      10   \n",
       "(6, 8)                                 55       8       15       23      10   \n",
       "(6, 8, 9)                              55       8       15       23      10   \n",
       "(6, 8, 9, 10)                          55       8       15       23      10   \n",
       "(6, 8, 9, 10, 11)                      55       8       15       23      10   \n",
       "(6, 8, 9, 11)                          55       8       15       23      10   \n",
       "(6, 8, 10)                             55       8       15       23      10   \n",
       "(6, 8, 10, 11)                         55       8       15       23      10   \n",
       "(6, 8, 11)                             55       8       15       23      10   \n",
       "(7, 8)                                 55       8       15       23      10   \n",
       "(7, 8, 9)                              55       8       15       23      10   \n",
       "(7, 8, 9, 10)                          55       8       15       23      10   \n",
       "(7, 8, 9, 10, 11)                      55       8       15       23      10   \n",
       "(7, 8, 9, 11)                          55       8       15       23      10   \n",
       "(7, 8, 10)                             55       8       15       23      10   \n",
       "(7, 8, 10, 11)                         55       8       15       23      10   \n",
       "(7, 8, 11)                             55       8       15       23      10   \n",
       "(8,)                                   55       8       15       23      10   \n",
       "(8, 9)                                 55       8       15       23      10   \n",
       "(8, 9, 10)                             55       8       15       23      10   \n",
       "(8, 9, 10, 11)                         55       8       15       23      10   \n",
       "(8, 9, 11)                             55       8       15       23      10   \n",
       "(8, 10)                                55       8       15       23      10   \n",
       "(8, 10, 11)                            55       8       15       23      10   \n",
       "(8, 11)                                55       8       15       23      10   \n",
       "\n",
       "                                  POS_TOT  SIGNALS  \n",
       "(0, 1, 2, 3, 4, 5, 6, 7, 8)            15       15  \n",
       "(0, 1, 2, 3, 4, 5, 6, 7, 8, 9)         15       15  \n",
       "(0, 1, 2, 3, 4, 5, 6, 7, 8, 10)        15       15  \n",
       "(0, 1, 2, 3, 4, 5, 6, 7, 8, 11)        15       15  \n",
       "(0, 1, 2, 3, 4, 5, 6, 8)               15       15  \n",
       "(0, 1, 2, 3, 4, 5, 6, 8, 9)            15       15  \n",
       "(0, 1, 2, 3, 4, 5, 6, 8, 9, 10)        15       15  \n",
       "(0, 1, 2, 3, 4, 5, 6, 8, 9, 11)        15       15  \n",
       "(0, 1, 2, 3, 4, 5, 6, 8, 10)           15       15  \n",
       "(0, 1, 2, 3, 4, 5, 6, 8, 10, 11)       15       15  \n",
       "(0, 1, 2, 3, 4, 5, 6, 8, 11)           15       15  \n",
       "(0, 1, 2, 3, 4, 5, 7, 8)               15       15  \n",
       "(0, 1, 2, 3, 4, 5, 7, 8, 9)            15       15  \n",
       "(0, 1, 2, 3, 4, 5, 7, 8, 9, 10)        15       15  \n",
       "(0, 1, 2, 3, 4, 5, 7, 8, 9, 11)        15       15  \n",
       "(0, 1, 2, 3, 4, 5, 7, 8, 10)           15       15  \n",
       "(0, 1, 2, 3, 4, 5, 7, 8, 10, 11)       15       15  \n",
       "(0, 1, 2, 3, 4, 5, 7, 8, 11)           15       15  \n",
       "(0, 1, 2, 3, 4, 5, 8)                  15       15  \n",
       "(0, 1, 2, 3, 4, 5, 8, 9)               15       15  \n",
       "(0, 1, 2, 3, 4, 5, 8, 9, 10)           15       15  \n",
       "(0, 1, 2, 3, 4, 5, 8, 9, 10, 11)       15       15  \n",
       "(0, 1, 2, 3, 4, 5, 8, 9, 11)           15       15  \n",
       "(0, 1, 2, 3, 4, 5, 8, 10)              15       15  \n",
       "(0, 1, 2, 3, 4, 5, 8, 10, 11)          15       15  \n",
       "(0, 1, 2, 3, 4, 5, 8, 11)              15       15  \n",
       "(0, 1, 2, 3, 4, 6, 7, 8)               15       15  \n",
       "(0, 1, 2, 3, 4, 6, 7, 8, 9)            15       15  \n",
       "(0, 1, 2, 3, 4, 6, 7, 8, 9, 10)        15       15  \n",
       "(0, 1, 2, 3, 4, 6, 7, 8, 9, 11)        15       15  \n",
       "...                                   ...      ...  \n",
       "(6, 7, 8, 9, 10)                       15       15  \n",
       "(6, 7, 8, 9, 10, 11)                   15       15  \n",
       "(6, 7, 8, 9, 11)                       15       15  \n",
       "(6, 7, 8, 10)                          15       15  \n",
       "(6, 7, 8, 10, 11)                      15       15  \n",
       "(6, 7, 8, 11)                          15       15  \n",
       "(6, 8)                                 15       15  \n",
       "(6, 8, 9)                              15       15  \n",
       "(6, 8, 9, 10)                          15       15  \n",
       "(6, 8, 9, 10, 11)                      15       15  \n",
       "(6, 8, 9, 11)                          15       15  \n",
       "(6, 8, 10)                             15       15  \n",
       "(6, 8, 10, 11)                         15       15  \n",
       "(6, 8, 11)                             15       15  \n",
       "(7, 8)                                 15       15  \n",
       "(7, 8, 9)                              15       15  \n",
       "(7, 8, 9, 10)                          15       15  \n",
       "(7, 8, 9, 10, 11)                      15       15  \n",
       "(7, 8, 9, 11)                          15       15  \n",
       "(7, 8, 10)                             15       15  \n",
       "(7, 8, 10, 11)                         15       15  \n",
       "(7, 8, 11)                             15       15  \n",
       "(8,)                                   15       15  \n",
       "(8, 9)                                 15       15  \n",
       "(8, 9, 10)                             15       15  \n",
       "(8, 9, 10, 11)                         15       15  \n",
       "(8, 9, 11)                             15       15  \n",
       "(8, 10)                                15       15  \n",
       "(8, 10, 11)                            15       15  \n",
       "(8, 11)                                15       15  \n",
       "\n",
       "[2036 rows x 7 columns]"
      ]
     },
     "execution_count": 112,
     "metadata": {},
     "output_type": "execute_result"
    }
   ],
   "source": [
    "selector_.score_.loc[0, df_.PV < 0.5]"
   ]
  },
  {
   "cell_type": "code",
   "execution_count": 28,
   "metadata": {
    "collapsed": true
   },
   "outputs": [],
   "source": [
    "# (8,)\t0.25\t0.000000\t0.000000\t0.0"
   ]
  },
  {
   "cell_type": "code",
   "execution_count": 113,
   "metadata": {
    "collapsed": false
   },
   "outputs": [
    {
     "data": {
      "text/plain": [
       "{}"
      ]
     },
     "execution_count": 113,
     "metadata": {},
     "output_type": "execute_result"
    }
   ],
   "source": [
    "selected_features_"
   ]
  },
  {
   "cell_type": "code",
   "execution_count": 171,
   "metadata": {
    "collapsed": false
   },
   "outputs": [
    {
     "data": {
      "image/png": "[encoded data removed]",
      "text/plain": [
       "<matplotlib.figure.Figure at 0x7f6c0f229d50>"
      ]
     },
     "metadata": {},
     "output_type": "display_data"
    }
   ],
   "source": [
    "fig = plt.figure(figsize=(20, 10))\n",
    "ax_train = fig.add_subplot(211)\n",
    "#ax_train.set_xticks(np.linspace(0, y_train.shape[0]-1, y_train.shape[0]))\n",
    "plt.title('Train anomalies')\n",
    "\n",
    "\n",
    "ax_test = fig.add_subplot(212)\n",
    "#ax_test.set_xticks(np.linspace(0, y_test.shape[0]-1, y_test.shape[0]))\n",
    "plt.title('Test anomalies')\n",
    "\n",
    "\n",
    "earthquake_big_time = np.where(y_train == 1)[0]\n",
    "[ax_train.axvline(i, c='k') for i in earthquake_big_time];\n",
    "for j in range(X_train.shape[1]):\n",
    "    time_anomaly = np.where(X_train[X_train.columns[j]] > 0)\n",
    "    [ax_train.axvline(i, c='r') for j, i in enumerate(time_anomaly[0])];\n",
    "\n",
    "    \n",
    "earthquake_big_time = np.where(y_test == 1)[0]\n",
    "[ax_test.axvline(i, c='k') for i in earthquake_big_time];\n",
    "for j in range(X_test.shape[1]):\n",
    "    time_anomaly = np.where(X_test[X_test.columns[j]] > 0)\n",
    "    [ax_test.axvline(i, c='r') for i in time_anomaly[0]];\n"
   ]
  },
  {
   "cell_type": "code",
   "execution_count": null,
   "metadata": {
    "collapsed": false
   },
   "outputs": [],
   "source": [
    "fig = plt.figure(figsize=(20, 10))\n",
    "ax_train = fig.add_subplot(211)\n",
    "ax_train.set_xticks(np.linspace(0, y_train.shape[0]-1, y_train.shape[0]))\n",
    "plt.title('Train anomalies')\n",
    "\n",
    "\n",
    "ax_test = fig.add_subplot(212)\n",
    "ax_test.set_xticks(np.linspace(0, y_test.shape[0]-1, y_test.shape[0]))\n",
    "plt.title('Test anomalies')\n",
    "\n",
    "\n",
    "earthquake_big_time = np.where(y_train == 1)[0]\n",
    "[ax_train.axvline(i, c='k') for i in earthquake_big_time];\n",
    "for j in range(X_train.shape[1]):\n",
    "    time_anomaly = np.where(X_train[X_train.columns[8]] > 0)\n",
    "    [ax_train.axvline(i, c='r') for j, i in enumerate(time_anomaly[0])];\n",
    "\n",
    "    \n",
    "earthquake_big_time = np.where(y_test == 1)[0]\n",
    "[ax_test.axvline(i, c='k') for i in earthquake_big_time];\n",
    "for j in range(X_test.shape[1]):\n",
    "    time_anomaly = np.where(X_test[X_test.columns[8]] > 0)\n",
    "    [ax_test.axvline(i, c='r') for i in time_anomaly[0]];\n"
   ]
  }
 ],
 "metadata": {
  "kernelspec": {
   "display_name": "Python 2",
   "language": "python",
   "name": "python2"
  },
  "language_info": {
   "codemirror_mode": {
    "name": "ipython",
    "version": 2
   },
   "file_extension": ".py",
   "mimetype": "text/x-python",
   "name": "python",
   "nbconvert_exporter": "python",
   "pygments_lexer": "ipython2",
   "version": "2.7.6"
  }
 },
 "nbformat": 4,
 "nbformat_minor": 1
}
